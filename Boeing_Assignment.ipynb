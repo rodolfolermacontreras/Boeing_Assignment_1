{
 "cells": [
  {
   "cell_type": "markdown",
   "metadata": {},
   "source": [
    "## Boeing Assignment \n",
    "\n",
    "### Applicant: Rodolfo Lerma\n",
    "\n",
    "### Problem Statement:\n",
    "\n",
    "Included in the training dataset is information on used cars previously sold. Each row corresponds to one used car listing. The first column of the data contains a unique identifier for the listing. The next twenty-six columns contain information on parameters relevant to the transaction, with those parameters described in more detail in the appendix attached. Finally, the last two columns of the `“Training_dataset.csv”` contain information on `“Vehicle_Trim”` and `“Dealer_Listing_Price”`, which describe the trim of the vehicle involved in the sale, and the price at which the vehicle was listed by the dealer.\n",
    "Your challenge is to build one or more models, through whatever means you find most appropriate, capable of predicting **vehicle trim** and **dealer listing price** given the other twenty six variables provided.\n",
    "\n",
    "**Instructions:**\n",
    "\n",
    "- Model the problem using whatever means you consider best. Your work is expected to be entirely your own. You may consult any resource or reference of your choosing to aide in solving the problem, but the work must be entirely yours. Please reference any resources you use in the write-up covered in step 5.\n",
    "\n",
    "\n",
    "- If you use a software package to assist you, please include ALL of your original source code in its entirety, and submit it to us EXACTLY following the instructions in Steps 5 and 6. Please also include information about which package you used and why in your brief problem write-up.\n",
    "\n",
    "\n",
    "- Do not use or add data from any third-party sources, such as internet car estimating tools, to the data provided. At your discretion, some or all of the provided data in `“Training_dataset.csv”` may be used, omitted or manipulated in any way during modeling, but no additional data may be added from outside sources.\n",
    "\n",
    "\n",
    "- Once your model is built, use it to make predictions on EACH of the 1,000 vehicle listings included in the `“Test_dataset.csv”` file. Your output should be a comma separated values (.csv) file with one-thousand rows and three columns. The first column should be the `unique identifier` for the listing. The second column should be your predicted value for `vehicle trim`. The third column should be your predicted value for `dealer listing price`.\n",
    "\n",
    "\n",
    "- Please submit a brief write-up of no more than 500 words describing the approach you selected and why. Please save your response as a PDF if possible. Please copy any source code from Step 2 and paste it as text into an appendix at the end of your write-up.\n",
    "\n",
    "\n",
    "- Return your submission to us by replying back to the original email before the date and time specified in that email. Please attach the CSV containing your predictions from Step 4 and the PDF containing your write-up and source code from step 5 to the email. It should contain ONLY two attachments: the CSV from step 4 and the PDF from Step 5. Please don’t resubmit any of our original data back in your reply."
   ]
  },
  {
   "cell_type": "code",
   "execution_count": 1,
   "metadata": {},
   "outputs": [],
   "source": [
    "import pandas as pd\n",
    "import numpy as np\n",
    "import seaborn as sns\n",
    "\n",
    "Test_df = pd.read_csv('Test_Dataset.csv')\n",
    "Training_df = pd.read_csv('Training_Dataset.csv')"
   ]
  },
  {
   "cell_type": "code",
   "execution_count": 2,
   "metadata": {},
   "outputs": [
    {
     "data": {
      "text/html": [
       "<div>\n",
       "<style scoped>\n",
       "    .dataframe tbody tr th:only-of-type {\n",
       "        vertical-align: middle;\n",
       "    }\n",
       "\n",
       "    .dataframe tbody tr th {\n",
       "        vertical-align: top;\n",
       "    }\n",
       "\n",
       "    .dataframe thead th {\n",
       "        text-align: right;\n",
       "    }\n",
       "</style>\n",
       "<table border=\"1\" class=\"dataframe\">\n",
       "  <thead>\n",
       "    <tr style=\"text-align: right;\">\n",
       "      <th></th>\n",
       "      <th>ListingID</th>\n",
       "      <th>SellerCity</th>\n",
       "      <th>SellerIsPriv</th>\n",
       "      <th>SellerListSrc</th>\n",
       "      <th>SellerName</th>\n",
       "      <th>SellerRating</th>\n",
       "      <th>SellerRevCnt</th>\n",
       "      <th>SellerState</th>\n",
       "      <th>SellerZip</th>\n",
       "      <th>VehBodystyle</th>\n",
       "      <th>...</th>\n",
       "      <th>VehMake</th>\n",
       "      <th>VehMileage</th>\n",
       "      <th>VehModel</th>\n",
       "      <th>VehPriceLabel</th>\n",
       "      <th>VehSellerNotes</th>\n",
       "      <th>VehType</th>\n",
       "      <th>VehTransmission</th>\n",
       "      <th>VehYear</th>\n",
       "      <th>Vehicle_Trim</th>\n",
       "      <th>Dealer_Listing_Price</th>\n",
       "    </tr>\n",
       "  </thead>\n",
       "  <tbody>\n",
       "    <tr>\n",
       "      <th>0</th>\n",
       "      <td>3287</td>\n",
       "      <td>Warren</td>\n",
       "      <td>False</td>\n",
       "      <td>Inventory Command Center</td>\n",
       "      <td>Prime Motorz</td>\n",
       "      <td>5.0</td>\n",
       "      <td>32</td>\n",
       "      <td>MI</td>\n",
       "      <td>48091.0</td>\n",
       "      <td>SUV</td>\n",
       "      <td>...</td>\n",
       "      <td>Jeep</td>\n",
       "      <td>39319.0</td>\n",
       "      <td>Grand Cherokee</td>\n",
       "      <td>Fair Price</td>\n",
       "      <td>NaN</td>\n",
       "      <td>Used</td>\n",
       "      <td>Automatic 8-Speed</td>\n",
       "      <td>2015</td>\n",
       "      <td>High Altitude</td>\n",
       "      <td>30990.0</td>\n",
       "    </tr>\n",
       "    <tr>\n",
       "      <th>1</th>\n",
       "      <td>3920</td>\n",
       "      <td>Fargo</td>\n",
       "      <td>False</td>\n",
       "      <td>Cadillac Certified Program</td>\n",
       "      <td>Gateway Chevrolet Cadillac</td>\n",
       "      <td>4.8</td>\n",
       "      <td>1456</td>\n",
       "      <td>ND</td>\n",
       "      <td>58103.0</td>\n",
       "      <td>SUV</td>\n",
       "      <td>...</td>\n",
       "      <td>Cadillac</td>\n",
       "      <td>30352.0</td>\n",
       "      <td>XT5</td>\n",
       "      <td>Good Deal</td>\n",
       "      <td>Come take a look at our great pre-owned invent...</td>\n",
       "      <td>Used</td>\n",
       "      <td>NaN</td>\n",
       "      <td>2017</td>\n",
       "      <td>NaN</td>\n",
       "      <td>34860.0</td>\n",
       "    </tr>\n",
       "    <tr>\n",
       "      <th>2</th>\n",
       "      <td>4777</td>\n",
       "      <td>Waukesha</td>\n",
       "      <td>False</td>\n",
       "      <td>Jeep Certified Program</td>\n",
       "      <td>Wilde Chrysler Jeep Dodge Ram &amp;amp; Subaru</td>\n",
       "      <td>4.8</td>\n",
       "      <td>1405</td>\n",
       "      <td>WI</td>\n",
       "      <td>53186.0</td>\n",
       "      <td>SUV</td>\n",
       "      <td>...</td>\n",
       "      <td>Jeep</td>\n",
       "      <td>38957.0</td>\n",
       "      <td>Grand Cherokee</td>\n",
       "      <td>Good Deal</td>\n",
       "      <td>Backed by a rigorous 125-point inspection by f...</td>\n",
       "      <td>Used</td>\n",
       "      <td>8-Speed Automatic w/OD</td>\n",
       "      <td>2015</td>\n",
       "      <td>Laredo</td>\n",
       "      <td>23249.0</td>\n",
       "    </tr>\n",
       "  </tbody>\n",
       "</table>\n",
       "<p>3 rows × 29 columns</p>\n",
       "</div>"
      ],
      "text/plain": [
       "   ListingID SellerCity  SellerIsPriv               SellerListSrc  \\\n",
       "0       3287     Warren         False    Inventory Command Center   \n",
       "1       3920      Fargo         False  Cadillac Certified Program   \n",
       "2       4777   Waukesha         False      Jeep Certified Program   \n",
       "\n",
       "                                   SellerName  SellerRating  SellerRevCnt  \\\n",
       "0                                Prime Motorz           5.0            32   \n",
       "1                  Gateway Chevrolet Cadillac           4.8          1456   \n",
       "2  Wilde Chrysler Jeep Dodge Ram &amp; Subaru           4.8          1405   \n",
       "\n",
       "  SellerState  SellerZip VehBodystyle  ...   VehMake VehMileage  \\\n",
       "0          MI    48091.0          SUV  ...      Jeep    39319.0   \n",
       "1          ND    58103.0          SUV  ...  Cadillac    30352.0   \n",
       "2          WI    53186.0          SUV  ...      Jeep    38957.0   \n",
       "\n",
       "         VehModel VehPriceLabel  \\\n",
       "0  Grand Cherokee    Fair Price   \n",
       "1             XT5     Good Deal   \n",
       "2  Grand Cherokee     Good Deal   \n",
       "\n",
       "                                      VehSellerNotes VehType  \\\n",
       "0                                                NaN    Used   \n",
       "1  Come take a look at our great pre-owned invent...    Used   \n",
       "2  Backed by a rigorous 125-point inspection by f...    Used   \n",
       "\n",
       "          VehTransmission VehYear   Vehicle_Trim Dealer_Listing_Price  \n",
       "0       Automatic 8-Speed    2015  High Altitude              30990.0  \n",
       "1                     NaN    2017            NaN              34860.0  \n",
       "2  8-Speed Automatic w/OD    2015         Laredo              23249.0  \n",
       "\n",
       "[3 rows x 29 columns]"
      ]
     },
     "execution_count": 2,
     "metadata": {},
     "output_type": "execute_result"
    }
   ],
   "source": [
    "Training_df.head(3)"
   ]
  },
  {
   "cell_type": "code",
   "execution_count": 3,
   "metadata": {},
   "outputs": [
    {
     "data": {
      "text/plain": [
       "(6298, 29)"
      ]
     },
     "execution_count": 3,
     "metadata": {},
     "output_type": "execute_result"
    }
   ],
   "source": [
    "Training_df.shape"
   ]
  },
  {
   "cell_type": "markdown",
   "metadata": {},
   "source": [
    "It is possible to see that the Training Data Set contains 29 columns and 6298 data points."
   ]
  },
  {
   "cell_type": "code",
   "execution_count": 4,
   "metadata": {},
   "outputs": [
    {
     "data": {
      "text/html": [
       "<div>\n",
       "<style scoped>\n",
       "    .dataframe tbody tr th:only-of-type {\n",
       "        vertical-align: middle;\n",
       "    }\n",
       "\n",
       "    .dataframe tbody tr th {\n",
       "        vertical-align: top;\n",
       "    }\n",
       "\n",
       "    .dataframe thead th {\n",
       "        text-align: right;\n",
       "    }\n",
       "</style>\n",
       "<table border=\"1\" class=\"dataframe\">\n",
       "  <thead>\n",
       "    <tr style=\"text-align: right;\">\n",
       "      <th></th>\n",
       "      <th>ListingID</th>\n",
       "      <th>SellerCity</th>\n",
       "      <th>SellerIsPriv</th>\n",
       "      <th>SellerListSrc</th>\n",
       "      <th>SellerName</th>\n",
       "      <th>SellerRating</th>\n",
       "      <th>SellerRevCnt</th>\n",
       "      <th>SellerState</th>\n",
       "      <th>SellerZip</th>\n",
       "      <th>VehBodystyle</th>\n",
       "      <th>...</th>\n",
       "      <th>VehHistory</th>\n",
       "      <th>VehListdays</th>\n",
       "      <th>VehMake</th>\n",
       "      <th>VehMileage</th>\n",
       "      <th>VehModel</th>\n",
       "      <th>VehPriceLabel</th>\n",
       "      <th>VehSellerNotes</th>\n",
       "      <th>VehType</th>\n",
       "      <th>VehTransmission</th>\n",
       "      <th>VehYear</th>\n",
       "    </tr>\n",
       "  </thead>\n",
       "  <tbody>\n",
       "    <tr>\n",
       "      <th>0</th>\n",
       "      <td>8622015</td>\n",
       "      <td>Seneca</td>\n",
       "      <td>False</td>\n",
       "      <td>HomeNet Automotive</td>\n",
       "      <td>Lake Keowee Chrysler Dodge Jeep Ram</td>\n",
       "      <td>2.5</td>\n",
       "      <td>59</td>\n",
       "      <td>SC</td>\n",
       "      <td>29678</td>\n",
       "      <td>SUV</td>\n",
       "      <td>...</td>\n",
       "      <td>1 Owner, Non-Personal Use Reported, Buyback Pr...</td>\n",
       "      <td>143.991262</td>\n",
       "      <td>Cadillac</td>\n",
       "      <td>13625.0</td>\n",
       "      <td>XT5</td>\n",
       "      <td>Good Deal</td>\n",
       "      <td>Thank you for visiting another one of Lake Keo...</td>\n",
       "      <td>Used</td>\n",
       "      <td>8-Speed Automatic</td>\n",
       "      <td>2018</td>\n",
       "    </tr>\n",
       "    <tr>\n",
       "      <th>1</th>\n",
       "      <td>8625693</td>\n",
       "      <td>Bedford</td>\n",
       "      <td>False</td>\n",
       "      <td>Inventory Command Center</td>\n",
       "      <td>North Coast Auto Mall</td>\n",
       "      <td>4.7</td>\n",
       "      <td>2116</td>\n",
       "      <td>OH</td>\n",
       "      <td>44146</td>\n",
       "      <td>SUV</td>\n",
       "      <td>...</td>\n",
       "      <td>1 Owner, Accident(s) Reported, Non-Personal Us...</td>\n",
       "      <td>138.770486</td>\n",
       "      <td>Jeep</td>\n",
       "      <td>42553.0</td>\n",
       "      <td>Grand Cherokee</td>\n",
       "      <td>Good Deal</td>\n",
       "      <td>This 2017 Jeep Grand Cherokee 4dr Limited 4x4 ...</td>\n",
       "      <td>Used</td>\n",
       "      <td>8-Speed Automatic</td>\n",
       "      <td>2017</td>\n",
       "    </tr>\n",
       "    <tr>\n",
       "      <th>2</th>\n",
       "      <td>8625750</td>\n",
       "      <td>Webster</td>\n",
       "      <td>False</td>\n",
       "      <td>Jeep Certified Program</td>\n",
       "      <td>Marina Chrysler Dodge Jeep Mitsubishi RAM</td>\n",
       "      <td>3.9</td>\n",
       "      <td>46</td>\n",
       "      <td>NY</td>\n",
       "      <td>14580</td>\n",
       "      <td>SUV</td>\n",
       "      <td>...</td>\n",
       "      <td>1 Owner, Buyback Protection Eligible</td>\n",
       "      <td>31.951088</td>\n",
       "      <td>Jeep</td>\n",
       "      <td>48951.0</td>\n",
       "      <td>Grand Cherokee</td>\n",
       "      <td>Good Deal</td>\n",
       "      <td>Certified. Brilliant Black Crystal Pearlcoat 2...</td>\n",
       "      <td>Used</td>\n",
       "      <td>8-Speed Automatic</td>\n",
       "      <td>2015</td>\n",
       "    </tr>\n",
       "  </tbody>\n",
       "</table>\n",
       "<p>3 rows × 27 columns</p>\n",
       "</div>"
      ],
      "text/plain": [
       "   ListingID SellerCity  SellerIsPriv             SellerListSrc  \\\n",
       "0    8622015     Seneca         False        HomeNet Automotive   \n",
       "1    8625693    Bedford         False  Inventory Command Center   \n",
       "2    8625750    Webster         False    Jeep Certified Program   \n",
       "\n",
       "                                  SellerName  SellerRating  SellerRevCnt  \\\n",
       "0        Lake Keowee Chrysler Dodge Jeep Ram           2.5            59   \n",
       "1                      North Coast Auto Mall           4.7          2116   \n",
       "2  Marina Chrysler Dodge Jeep Mitsubishi RAM           3.9            46   \n",
       "\n",
       "  SellerState  SellerZip VehBodystyle  ...  \\\n",
       "0          SC      29678          SUV  ...   \n",
       "1          OH      44146          SUV  ...   \n",
       "2          NY      14580          SUV  ...   \n",
       "\n",
       "                                          VehHistory VehListdays   VehMake  \\\n",
       "0  1 Owner, Non-Personal Use Reported, Buyback Pr...  143.991262  Cadillac   \n",
       "1  1 Owner, Accident(s) Reported, Non-Personal Us...  138.770486      Jeep   \n",
       "2               1 Owner, Buyback Protection Eligible   31.951088      Jeep   \n",
       "\n",
       "  VehMileage        VehModel VehPriceLabel  \\\n",
       "0    13625.0             XT5     Good Deal   \n",
       "1    42553.0  Grand Cherokee     Good Deal   \n",
       "2    48951.0  Grand Cherokee     Good Deal   \n",
       "\n",
       "                                      VehSellerNotes VehType  \\\n",
       "0  Thank you for visiting another one of Lake Keo...    Used   \n",
       "1  This 2017 Jeep Grand Cherokee 4dr Limited 4x4 ...    Used   \n",
       "2  Certified. Brilliant Black Crystal Pearlcoat 2...    Used   \n",
       "\n",
       "     VehTransmission VehYear  \n",
       "0  8-Speed Automatic    2018  \n",
       "1  8-Speed Automatic    2017  \n",
       "2  8-Speed Automatic    2015  \n",
       "\n",
       "[3 rows x 27 columns]"
      ]
     },
     "execution_count": 4,
     "metadata": {},
     "output_type": "execute_result"
    }
   ],
   "source": [
    "Test_df.head(3)"
   ]
  },
  {
   "cell_type": "code",
   "execution_count": 5,
   "metadata": {},
   "outputs": [
    {
     "data": {
      "text/plain": [
       "(1000, 27)"
      ]
     },
     "execution_count": 5,
     "metadata": {},
     "output_type": "execute_result"
    }
   ],
   "source": [
    "Test_df.shape"
   ]
  },
  {
   "cell_type": "markdown",
   "metadata": {},
   "source": [
    "It is possible to see that the Training Data Set contains 27 columns and 1000 data points."
   ]
  },
  {
   "cell_type": "code",
   "execution_count": 6,
   "metadata": {},
   "outputs": [
    {
     "data": {
      "text/plain": [
       "ListingID                 int64\n",
       "SellerCity               object\n",
       "SellerIsPriv               bool\n",
       "SellerListSrc            object\n",
       "SellerName               object\n",
       "SellerRating            float64\n",
       "SellerRevCnt              int64\n",
       "SellerState              object\n",
       "SellerZip               float64\n",
       "VehBodystyle             object\n",
       "VehCertified               bool\n",
       "VehColorExt              object\n",
       "VehColorInt              object\n",
       "VehDriveTrain            object\n",
       "VehEngine                object\n",
       "VehFeats                 object\n",
       "VehFuel                  object\n",
       "VehHistory               object\n",
       "VehListdays             float64\n",
       "VehMake                  object\n",
       "VehMileage              float64\n",
       "VehModel                 object\n",
       "VehPriceLabel            object\n",
       "VehSellerNotes           object\n",
       "VehType                  object\n",
       "VehTransmission          object\n",
       "VehYear                   int64\n",
       "Vehicle_Trim             object\n",
       "Dealer_Listing_Price    float64\n",
       "dtype: object"
      ]
     },
     "execution_count": 6,
     "metadata": {},
     "output_type": "execute_result"
    }
   ],
   "source": [
    "Training_df.dtypes"
   ]
  },
  {
   "cell_type": "code",
   "execution_count": 7,
   "metadata": {},
   "outputs": [],
   "source": [
    "numeric_columns = ['SellerRating', 'SellerRevCnt', 'VehListdays', 'VehMileage', 'VehYear']"
   ]
  },
  {
   "cell_type": "code",
   "execution_count": 8,
   "metadata": {},
   "outputs": [
    {
     "data": {
      "image/png": "[encoded data removed]",
      "text/plain": [
       "<Figure size 576x216 with 1 Axes>"
      ]
     },
     "metadata": {
      "needs_background": "light"
     },
     "output_type": "display_data"
    },
    {
     "data": {
      "image/png": "[encoded data removed]",
      "text/plain": [
       "<Figure size 576x216 with 1 Axes>"
      ]
     },
     "metadata": {
      "needs_background": "light"
     },
     "output_type": "display_data"
    },
    {
     "data": {
      "image/png": "[encoded data removed]",
      "text/plain": [
       "<Figure size 576x216 with 1 Axes>"
      ]
     },
     "metadata": {
      "needs_background": "light"
     },
     "output_type": "display_data"
    },
    {
     "data": {
      "image/png": "[encoded data removed]",
      "text/plain": [
       "<Figure size 576x216 with 1 Axes>"
      ]
     },
     "metadata": {
      "needs_background": "light"
     },
     "output_type": "display_data"
    },
    {
     "data": {
      "image/png": "[encoded data removed]",
      "text/plain": [
       "<Figure size 576x216 with 1 Axes>"
      ]
     },
     "metadata": {
      "needs_background": "light"
     },
     "output_type": "display_data"
    }
   ],
   "source": [
    "import matplotlib.pyplot as plt\n",
    "\n",
    "def hist_plot(df,a):\n",
    "    df[a].hist(figsize = (8,3))\n",
    "    plt.xlabel(a, fontsize = 15)\n",
    "    plt.ylabel('Frequency',fontsize = 15)\n",
    "    plt.tick_params(axis=\"x\", labelsize=10)\n",
    "    plt.tick_params(axis=\"y\", labelsize=10)\n",
    "    plt.grid(True)\n",
    "    plt.show()\n",
    "    \n",
    "for i in numeric_columns:\n",
    "    hist_plot(Training_df, i)"
   ]
  },
  {
   "cell_type": "markdown",
   "metadata": {},
   "source": [
    "### Missing Values"
   ]
  },
  {
   "cell_type": "code",
   "execution_count": 9,
   "metadata": {},
   "outputs": [],
   "source": [
    "columns = Training_df.columns.to_list()\n",
    "\n",
    "missing_values = []\n",
    "my_list = Training_df.columns.values.tolist()\n",
    "y = Training_df.shape\n",
    "for i in my_list:\n",
    "    x = Training_df[i].isnull().sum()\n",
    "    missing_values.append(x)\n",
    "    \n",
    "columns_missing = dict(zip(my_list, missing_values))\n",
    "a = sorted(columns_missing.items(), key=lambda x: x[1], reverse = True)  \n",
    "\n",
    "missing_columns_names = []\n",
    "for key, value in columns_missing.items():\n",
    "    if value > 196: \n",
    "        x = key\n",
    "        missing_columns_names.append(x)"
   ]
  },
  {
   "cell_type": "code",
   "execution_count": 10,
   "metadata": {},
   "outputs": [
    {
     "name": "stdout",
     "output_type": "stream",
     "text": [
      "{'ListingID': 0, 'SellerCity': 0, 'SellerIsPriv': 0, 'SellerListSrc': 2, 'SellerName': 0, 'SellerRating': 0, 'SellerRevCnt': 0, 'SellerState': 0, 'SellerZip': 2, 'VehBodystyle': 0, 'VehCertified': 0, 'VehColorExt': 73, 'VehColorInt': 728, 'VehDriveTrain': 401, 'VehEngine': 361, 'VehFeats': 275, 'VehFuel': 2, 'VehHistory': 201, 'VehListdays': 2, 'VehMake': 0, 'VehMileage': 2, 'VehModel': 0, 'VehPriceLabel': 285, 'VehSellerNotes': 243, 'VehType': 0, 'VehTransmission': 197, 'VehYear': 0, 'Vehicle_Trim': 405, 'Dealer_Listing_Price': 52}\n"
     ]
    }
   ],
   "source": [
    "print(columns_missing)"
   ]
  },
  {
   "cell_type": "markdown",
   "metadata": {},
   "source": [
    "Looking at the data we can see that there are some columns with more than 10 percent of missing data points."
   ]
  },
  {
   "cell_type": "code",
   "execution_count": 11,
   "metadata": {},
   "outputs": [
    {
     "name": "stdout",
     "output_type": "stream",
     "text": [
      "Columns with missing values greater than 200\n",
      "['VehColorInt', 'VehDriveTrain', 'VehEngine', 'VehFeats', 'VehHistory', 'VehPriceLabel', 'VehSellerNotes', 'VehTransmission', 'Vehicle_Trim']\n"
     ]
    }
   ],
   "source": [
    "print('Columns with missing values greater than 200')\n",
    "print(missing_columns_names)"
   ]
  },
  {
   "cell_type": "markdown",
   "metadata": {},
   "source": [
    "### Distribution of the Target Variable"
   ]
  },
  {
   "cell_type": "code",
   "execution_count": 12,
   "metadata": {},
   "outputs": [
    {
     "data": {
      "image/png": "[encoded data removed]",
      "text/plain": [
       "<Figure size 720x288 with 1 Axes>"
      ]
     },
     "metadata": {
      "needs_background": "light"
     },
     "output_type": "display_data"
    }
   ],
   "source": [
    "import matplotlib.pyplot as plt\n",
    "Training_df['Dealer_Listing_Price'].hist(figsize = (10,4))\n",
    "plt.xlabel('Dealer Price', fontsize = 20)\n",
    "plt.ylabel('Frequency',fontsize = 20)\n",
    "plt.title('Dealer Listing Price', fontsize = 20)\n",
    "plt.tick_params(axis=\"x\", labelsize=15)\n",
    "plt.tick_params(axis=\"y\", labelsize=15)\n",
    "plt.grid(True)\n",
    "plt.show()"
   ]
  },
  {
   "cell_type": "code",
   "execution_count": 13,
   "metadata": {},
   "outputs": [
    {
     "data": {
      "image/png": "[encoded data removed]",
      "text/plain": [
       "<Figure size 720x288 with 1 Axes>"
      ]
     },
     "metadata": {
      "needs_background": "light"
     },
     "output_type": "display_data"
    }
   ],
   "source": [
    "Training_df['Vehicle_Trim'].hist(figsize = (10,4))\n",
    "#plt.xlabel('Trim', fontsize = 20)\n",
    "plt.ylabel('Frequency',fontsize = 20)\n",
    "plt.title('Vehicle Trim', fontsize = 20)\n",
    "plt.tick_params(axis=\"x\", labelsize=10, rotation=90)\n",
    "plt.tick_params(axis=\"y\", labelsize=15)\n",
    "plt.grid(True)\n",
    "plt.show()"
   ]
  },
  {
   "cell_type": "code",
   "execution_count": 14,
   "metadata": {},
   "outputs": [],
   "source": [
    "boolean_columns = ['SellerIsPriv', 'VehCertified']\n",
    "for i in boolean_columns:\n",
    "    Training_df[i] = Training_df[i].astype(int)"
   ]
  },
  {
   "cell_type": "markdown",
   "metadata": {},
   "source": [
    "Based on the nature of the data some columns will be removed:\n",
    "- `ListingID`\n",
    "- `VehSellerNotes`"
   ]
  },
  {
   "cell_type": "markdown",
   "metadata": {},
   "source": [
    "Need to expand the list:\n",
    "- `VehHistory`\n",
    "- `VehFeats`"
   ]
  },
  {
   "cell_type": "markdown",
   "metadata": {},
   "source": [
    "## Data Formatting"
   ]
  },
  {
   "cell_type": "markdown",
   "metadata": {},
   "source": [
    "For numerical features with missing values "
   ]
  },
  {
   "cell_type": "code",
   "execution_count": 15,
   "metadata": {},
   "outputs": [],
   "source": [
    "data = Training_df.copy()"
   ]
  },
  {
   "cell_type": "code",
   "execution_count": 16,
   "metadata": {},
   "outputs": [],
   "source": [
    "data.dropna(inplace = True)"
   ]
  },
  {
   "cell_type": "code",
   "execution_count": 17,
   "metadata": {},
   "outputs": [
    {
     "data": {
      "text/plain": [
       "(5045, 29)"
      ]
     },
     "execution_count": 17,
     "metadata": {},
     "output_type": "execute_result"
    }
   ],
   "source": [
    "data.shape"
   ]
  },
  {
   "cell_type": "markdown",
   "metadata": {},
   "source": [
    "If the missing data is drop we reduce the data set by 20%. This is a possibility."
   ]
  },
  {
   "cell_type": "code",
   "execution_count": 18,
   "metadata": {},
   "outputs": [],
   "source": [
    "data.drop(columns=['ListingID', 'VehSellerNotes', 'SellerZip'], inplace = True)"
   ]
  },
  {
   "cell_type": "code",
   "execution_count": 19,
   "metadata": {},
   "outputs": [],
   "source": [
    "columns_updated = data.columns.to_list()"
   ]
  },
  {
   "cell_type": "code",
   "execution_count": 20,
   "metadata": {},
   "outputs": [],
   "source": [
    "from sklearn.preprocessing import StandardScaler\n",
    "\n",
    "scaler = StandardScaler()\n",
    "scaler.fit(data[numeric_columns])\n",
    "data_scaled = scaler.transform(data[numeric_columns])\n",
    "df1 = pd.DataFrame(data_scaled, columns = numeric_columns)"
   ]
  },
  {
   "cell_type": "code",
   "execution_count": 21,
   "metadata": {},
   "outputs": [],
   "source": [
    "data.drop(columns = numeric_columns, inplace = True)"
   ]
  },
  {
   "cell_type": "code",
   "execution_count": 22,
   "metadata": {},
   "outputs": [],
   "source": [
    "#Normalized data"
   ]
  },
  {
   "cell_type": "code",
   "execution_count": 23,
   "metadata": {},
   "outputs": [],
   "source": [
    "data = data.join(df1)"
   ]
  },
  {
   "cell_type": "code",
   "execution_count": 24,
   "metadata": {},
   "outputs": [],
   "source": [
    "special_columns = ['VehHistory', 'VehFeats']\n",
    "targets = [\"Vehicle_Trim\", \"Dealer_Listing_Price\"]"
   ]
  },
  {
   "cell_type": "code",
   "execution_count": 25,
   "metadata": {},
   "outputs": [],
   "source": [
    "data[\"Vehicle_Trim\"] = data[\"Vehicle_Trim\"].astype('category')\n",
    "data[\"Vehicle_Trim_cat\"] = data[\"Vehicle_Trim\"].cat.codes\n",
    "data.drop(columns = 'Vehicle_Trim', inplace = True)"
   ]
  },
  {
   "cell_type": "code",
   "execution_count": 26,
   "metadata": {},
   "outputs": [],
   "source": [
    "categorical_columns = [i for i in columns_updated if i not in numeric_columns]\n",
    "categorical_columns = [i for i in categorical_columns if i not in boolean_columns]\n",
    "categorical_columns = [i for i in categorical_columns if i not in special_columns]\n",
    "categorical_columns = [i for i in categorical_columns if i not in targets]"
   ]
  },
  {
   "cell_type": "code",
   "execution_count": 27,
   "metadata": {},
   "outputs": [],
   "source": [
    "for i in categorical_columns:\n",
    "    data[i] = data[i].str.lower()"
   ]
  },
  {
   "cell_type": "code",
   "execution_count": 28,
   "metadata": {},
   "outputs": [],
   "source": [
    "one_hot = pd.get_dummies(data[categorical_columns])"
   ]
  },
  {
   "cell_type": "code",
   "execution_count": 29,
   "metadata": {},
   "outputs": [],
   "source": [
    "data = data.join(one_hot)"
   ]
  },
  {
   "cell_type": "markdown",
   "metadata": {},
   "source": [
    "There are 2 columns with a list of values that might be important for the analysis. For this reason they are going to be split and included as features (One Hot Encoding):\n",
    "- `VehHistory`\n",
    "- `VehFeats`"
   ]
  },
  {
   "cell_type": "markdown",
   "metadata": {},
   "source": [
    "## `VehFeats`"
   ]
  },
  {
   "cell_type": "code",
   "execution_count": 30,
   "metadata": {},
   "outputs": [],
   "source": [
    "x = pd.Series(data['VehFeats'])\n",
    "split_df = data['VehFeats'].tolist()\n",
    "mySeries = pd.Series(split_df) \n",
    "x = mySeries[2][1:-1]\n",
    "letter_list = x.split(\",\")"
   ]
  },
  {
   "cell_type": "code",
   "execution_count": 31,
   "metadata": {},
   "outputs": [],
   "source": [
    "list_of_lists = []\n",
    "for i in range(len(mySeries)):\n",
    "    x = mySeries[i][1:-1]\n",
    "    new_string = x.replace(\" '\", \"\")\n",
    "    new_string = new_string.replace(\"'\", \"\")\n",
    "    new_string = new_string.replace(\",\", \"_\")\n",
    "    new_string = new_string.replace(\";\", \"_\")\n",
    "    new_string = new_string.lower()\n",
    "    letter_list = new_string.split(\"_\")\n",
    "    list_of_lists.append(letter_list)"
   ]
  },
  {
   "cell_type": "code",
   "execution_count": 32,
   "metadata": {},
   "outputs": [],
   "source": [
    "from sklearn.preprocessing import MultiLabelBinarizer\n",
    "test = pd.Series(list_of_lists)\n",
    "mlb = MultiLabelBinarizer()\n",
    "onehot_VehFeats = pd.DataFrame(mlb.fit_transform(test),\n",
    "                   columns=mlb.classes_,\n",
    "                   index=test.index)\n",
    "data = data.join(onehot_VehFeats)"
   ]
  },
  {
   "cell_type": "markdown",
   "metadata": {},
   "source": [
    "### `VehHistory`"
   ]
  },
  {
   "cell_type": "code",
   "execution_count": 33,
   "metadata": {},
   "outputs": [],
   "source": [
    "split_df2 = data['VehHistory'].tolist()\n",
    "mySeries2 = pd.Series(split_df2) "
   ]
  },
  {
   "cell_type": "code",
   "execution_count": 34,
   "metadata": {},
   "outputs": [],
   "source": [
    "list_of_lists2 = []\n",
    "for i in range(len(mySeries2)):\n",
    "    w = mySeries2[i]\n",
    "    letter_list2 = w.split(\",\")\n",
    "    list_of_lists2.append(letter_list2)"
   ]
  },
  {
   "cell_type": "code",
   "execution_count": 35,
   "metadata": {},
   "outputs": [],
   "source": [
    "test2 = pd.Series(list_of_lists2)\n",
    "mlb2 = MultiLabelBinarizer()\n",
    "onehot_VehHistory = pd.DataFrame(mlb.fit_transform(test2),\n",
    "                   columns=mlb.classes_,\n",
    "                   index=test2.index)\n",
    "data = data.join(onehot_VehHistory)"
   ]
  },
  {
   "cell_type": "markdown",
   "metadata": {},
   "source": [
    "### General Structure:\n",
    "\n",
    "- **Clean the Data:**\n",
    "    - Missing values: Remove or replace (for median or mode)\n",
    "    - Split the columns\n",
    "    - One hot encoding\n",
    "\n",
    "\n",
    "- **Split into training and validation:**\n",
    "\n",
    "\n",
    "- **Feature Selection:**\n",
    "    - Feature selection for 2 models\n",
    "    - Select the most important variables\n",
    "\n",
    "\n",
    "- **Select different models and do Cross Validation to select the right hyper parameters:**\n",
    "    - For 2 models for 2 predictions\n",
    "\n",
    "\n",
    "- **From there select the best model and get the final model:**\n",
    "    - For 2 models\n",
    "  \n",
    "  \n",
    "- **Do a final Test Prediction:**\n",
    "    - For 2 models"
   ]
  }
 ],
 "metadata": {
  "kernelspec": {
   "display_name": "Python 3",
   "language": "python",
   "name": "python3"
  },
  "language_info": {
   "codemirror_mode": {
    "name": "ipython",
    "version": 3
   },
   "file_extension": ".py",
   "mimetype": "text/x-python",
   "name": "python",
   "nbconvert_exporter": "python",
   "pygments_lexer": "ipython3",
   "version": "3.8.8"
  }
 },
 "nbformat": 4,
 "nbformat_minor": 2
}
