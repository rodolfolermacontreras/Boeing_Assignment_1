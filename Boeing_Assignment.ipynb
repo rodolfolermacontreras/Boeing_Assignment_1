{
 "cells": [
  {
   "cell_type": "markdown",
   "metadata": {},
   "source": [
    "# Boeing Assignment \n",
    "\n",
    "### Applicant: Rodolfo Lerma\n",
    "\n",
    "### Problem Statement:\n",
    "\n",
    "Included in the training dataset is information on used cars previously sold. Each row corresponds to one used car listing. The first column of the data contains a unique identifier for the listing. The next twenty-six columns contain information on parameters relevant to the transaction, with those parameters described in more detail in the appendix attached. Finally, the last two columns of the `“Training_dataset.csv”` contain information on `“Vehicle_Trim”` and `“Dealer_Listing_Price”`, which describe the trim of the vehicle involved in the sale, and the price at which the vehicle was listed by the dealer.\n",
    "Your challenge is to build one or more models, through whatever means you find most appropriate, capable of predicting **vehicle trim** and **dealer listing price** given the other twenty six variables provided.\n",
    "\n",
    "**Instructions:**\n",
    "\n",
    "- Model the problem using whatever means you consider best. Your work is expected to be entirely your own. You may consult any resource or reference of your choosing to aide in solving the problem, but the work must be entirely yours. Please reference any resources you use in the write-up covered in step 5.\n",
    "\n",
    "\n",
    "- If you use a software package to assist you, please include ALL of your original source code in its entirety, and submit it to us EXACTLY following the instructions in Steps 5 and 6. Please also include information about which package you used and why in your brief problem write-up.\n",
    "\n",
    "\n",
    "- Do not use or add data from any third-party sources, such as internet car estimating tools, to the data provided. At your discretion, some or all of the provided data in `“Training_dataset.csv”` may be used, omitted or manipulated in any way during modeling, but no additional data may be added from outside sources.\n",
    "\n",
    "\n",
    "- Once your model is built, use it to make predictions on EACH of the 1,000 vehicle listings included in the `“Test_dataset.csv”` file. Your output should be a comma separated values (.csv) file with one-thousand rows and three columns. The first column should be the `unique identifier` for the listing. The second column should be your predicted value for `vehicle trim`. The third column should be your predicted value for `dealer listing price`.\n",
    "\n",
    "\n",
    "- Please submit a brief write-up of no more than 500 words describing the approach you selected and why. Please save your response as a PDF if possible. Please copy any source code from Step 2 and paste it as text into an appendix at the end of your write-up.\n",
    "\n",
    "\n",
    "- Return your submission to us by replying back to the original email before the date and time specified in that email. Please attach the CSV containing your predictions from Step 4 and the PDF containing your write-up and source code from step 5 to the email. It should contain ONLY two attachments: the CSV from step 4 and the PDF from Step 5. Please don’t resubmit any of our original data back in your reply."
   ]
  },
  {
   "cell_type": "markdown",
   "metadata": {},
   "source": [
    "## TO DO LIST:\n",
    "\n",
    "**Work for MONDAY:**\n",
    "\n",
    "- Select one final model for the regression\n",
    "    - Use CrossVal to select the best hyper parameters\n",
    "    - Combine training and validation for final model\n",
    "    - Make a final prediction for the price.\n",
    " \n",
    "- Start looking into the second model (look at Assignment 06)\n",
    "    - Feature Selection\n",
    "    - Hyperparameters optimization\n",
    "    - Final model selection\n",
    "    - Combine training and validation for final model\n",
    "    - Make a prediction for the trim\n",
    "    - Decode the trim based on initial categorization\n",
    "    \n",
    "- Save both results in an excel file\n",
    "\n",
    "- Give format to the code:\n",
    "    - Structure"
   ]
  },
  {
   "cell_type": "markdown",
   "metadata": {},
   "source": [
    "## Abstract:\n",
    "\n",
    "The analysis is structured in the following way:\n"
   ]
  },
  {
   "cell_type": "markdown",
   "metadata": {},
   "source": [
    "## Data Exploration"
   ]
  },
  {
   "cell_type": "code",
   "execution_count": 1,
   "metadata": {},
   "outputs": [],
   "source": [
    "import pandas as pd\n",
    "import numpy as np\n",
    "import seaborn as sns\n",
    "\n",
    "Test_df = pd.read_csv('Test_Dataset.csv')\n",
    "Training_df = pd.read_csv('Training_Dataset.csv')"
   ]
  },
  {
   "cell_type": "code",
   "execution_count": 2,
   "metadata": {},
   "outputs": [
    {
     "data": {
      "text/html": [
       "<div>\n",
       "<style scoped>\n",
       "    .dataframe tbody tr th:only-of-type {\n",
       "        vertical-align: middle;\n",
       "    }\n",
       "\n",
       "    .dataframe tbody tr th {\n",
       "        vertical-align: top;\n",
       "    }\n",
       "\n",
       "    .dataframe thead th {\n",
       "        text-align: right;\n",
       "    }\n",
       "</style>\n",
       "<table border=\"1\" class=\"dataframe\">\n",
       "  <thead>\n",
       "    <tr style=\"text-align: right;\">\n",
       "      <th></th>\n",
       "      <th>ListingID</th>\n",
       "      <th>SellerCity</th>\n",
       "      <th>SellerIsPriv</th>\n",
       "      <th>SellerListSrc</th>\n",
       "      <th>SellerName</th>\n",
       "      <th>SellerRating</th>\n",
       "      <th>SellerRevCnt</th>\n",
       "      <th>SellerState</th>\n",
       "      <th>SellerZip</th>\n",
       "      <th>VehBodystyle</th>\n",
       "      <th>...</th>\n",
       "      <th>VehMake</th>\n",
       "      <th>VehMileage</th>\n",
       "      <th>VehModel</th>\n",
       "      <th>VehPriceLabel</th>\n",
       "      <th>VehSellerNotes</th>\n",
       "      <th>VehType</th>\n",
       "      <th>VehTransmission</th>\n",
       "      <th>VehYear</th>\n",
       "      <th>Vehicle_Trim</th>\n",
       "      <th>Dealer_Listing_Price</th>\n",
       "    </tr>\n",
       "  </thead>\n",
       "  <tbody>\n",
       "    <tr>\n",
       "      <th>0</th>\n",
       "      <td>3287</td>\n",
       "      <td>Warren</td>\n",
       "      <td>False</td>\n",
       "      <td>Inventory Command Center</td>\n",
       "      <td>Prime Motorz</td>\n",
       "      <td>5.0</td>\n",
       "      <td>32</td>\n",
       "      <td>MI</td>\n",
       "      <td>48091.0</td>\n",
       "      <td>SUV</td>\n",
       "      <td>...</td>\n",
       "      <td>Jeep</td>\n",
       "      <td>39319.0</td>\n",
       "      <td>Grand Cherokee</td>\n",
       "      <td>Fair Price</td>\n",
       "      <td>NaN</td>\n",
       "      <td>Used</td>\n",
       "      <td>Automatic 8-Speed</td>\n",
       "      <td>2015</td>\n",
       "      <td>High Altitude</td>\n",
       "      <td>30990.0</td>\n",
       "    </tr>\n",
       "    <tr>\n",
       "      <th>1</th>\n",
       "      <td>3920</td>\n",
       "      <td>Fargo</td>\n",
       "      <td>False</td>\n",
       "      <td>Cadillac Certified Program</td>\n",
       "      <td>Gateway Chevrolet Cadillac</td>\n",
       "      <td>4.8</td>\n",
       "      <td>1456</td>\n",
       "      <td>ND</td>\n",
       "      <td>58103.0</td>\n",
       "      <td>SUV</td>\n",
       "      <td>...</td>\n",
       "      <td>Cadillac</td>\n",
       "      <td>30352.0</td>\n",
       "      <td>XT5</td>\n",
       "      <td>Good Deal</td>\n",
       "      <td>Come take a look at our great pre-owned invent...</td>\n",
       "      <td>Used</td>\n",
       "      <td>NaN</td>\n",
       "      <td>2017</td>\n",
       "      <td>NaN</td>\n",
       "      <td>34860.0</td>\n",
       "    </tr>\n",
       "    <tr>\n",
       "      <th>2</th>\n",
       "      <td>4777</td>\n",
       "      <td>Waukesha</td>\n",
       "      <td>False</td>\n",
       "      <td>Jeep Certified Program</td>\n",
       "      <td>Wilde Chrysler Jeep Dodge Ram &amp;amp; Subaru</td>\n",
       "      <td>4.8</td>\n",
       "      <td>1405</td>\n",
       "      <td>WI</td>\n",
       "      <td>53186.0</td>\n",
       "      <td>SUV</td>\n",
       "      <td>...</td>\n",
       "      <td>Jeep</td>\n",
       "      <td>38957.0</td>\n",
       "      <td>Grand Cherokee</td>\n",
       "      <td>Good Deal</td>\n",
       "      <td>Backed by a rigorous 125-point inspection by f...</td>\n",
       "      <td>Used</td>\n",
       "      <td>8-Speed Automatic w/OD</td>\n",
       "      <td>2015</td>\n",
       "      <td>Laredo</td>\n",
       "      <td>23249.0</td>\n",
       "    </tr>\n",
       "  </tbody>\n",
       "</table>\n",
       "<p>3 rows × 29 columns</p>\n",
       "</div>"
      ],
      "text/plain": [
       "   ListingID SellerCity  SellerIsPriv               SellerListSrc  \\\n",
       "0       3287     Warren         False    Inventory Command Center   \n",
       "1       3920      Fargo         False  Cadillac Certified Program   \n",
       "2       4777   Waukesha         False      Jeep Certified Program   \n",
       "\n",
       "                                   SellerName  SellerRating  SellerRevCnt  \\\n",
       "0                                Prime Motorz           5.0            32   \n",
       "1                  Gateway Chevrolet Cadillac           4.8          1456   \n",
       "2  Wilde Chrysler Jeep Dodge Ram &amp; Subaru           4.8          1405   \n",
       "\n",
       "  SellerState  SellerZip VehBodystyle  ...   VehMake VehMileage  \\\n",
       "0          MI    48091.0          SUV  ...      Jeep    39319.0   \n",
       "1          ND    58103.0          SUV  ...  Cadillac    30352.0   \n",
       "2          WI    53186.0          SUV  ...      Jeep    38957.0   \n",
       "\n",
       "         VehModel VehPriceLabel  \\\n",
       "0  Grand Cherokee    Fair Price   \n",
       "1             XT5     Good Deal   \n",
       "2  Grand Cherokee     Good Deal   \n",
       "\n",
       "                                      VehSellerNotes VehType  \\\n",
       "0                                                NaN    Used   \n",
       "1  Come take a look at our great pre-owned invent...    Used   \n",
       "2  Backed by a rigorous 125-point inspection by f...    Used   \n",
       "\n",
       "          VehTransmission VehYear   Vehicle_Trim Dealer_Listing_Price  \n",
       "0       Automatic 8-Speed    2015  High Altitude              30990.0  \n",
       "1                     NaN    2017            NaN              34860.0  \n",
       "2  8-Speed Automatic w/OD    2015         Laredo              23249.0  \n",
       "\n",
       "[3 rows x 29 columns]"
      ]
     },
     "execution_count": 2,
     "metadata": {},
     "output_type": "execute_result"
    }
   ],
   "source": [
    "Training_df.head(3)"
   ]
  },
  {
   "cell_type": "code",
   "execution_count": 3,
   "metadata": {},
   "outputs": [
    {
     "data": {
      "text/plain": [
       "(6298, 29)"
      ]
     },
     "execution_count": 3,
     "metadata": {},
     "output_type": "execute_result"
    }
   ],
   "source": [
    "Training_df.shape"
   ]
  },
  {
   "cell_type": "markdown",
   "metadata": {},
   "source": [
    "It is possible to see that the Training Data Set contains 29 columns and 6298 data points. Out of those 29 columns, 2 are the **target** variables."
   ]
  },
  {
   "cell_type": "code",
   "execution_count": 4,
   "metadata": {},
   "outputs": [
    {
     "data": {
      "text/html": [
       "<div>\n",
       "<style scoped>\n",
       "    .dataframe tbody tr th:only-of-type {\n",
       "        vertical-align: middle;\n",
       "    }\n",
       "\n",
       "    .dataframe tbody tr th {\n",
       "        vertical-align: top;\n",
       "    }\n",
       "\n",
       "    .dataframe thead th {\n",
       "        text-align: right;\n",
       "    }\n",
       "</style>\n",
       "<table border=\"1\" class=\"dataframe\">\n",
       "  <thead>\n",
       "    <tr style=\"text-align: right;\">\n",
       "      <th></th>\n",
       "      <th>ListingID</th>\n",
       "      <th>SellerCity</th>\n",
       "      <th>SellerIsPriv</th>\n",
       "      <th>SellerListSrc</th>\n",
       "      <th>SellerName</th>\n",
       "      <th>SellerRating</th>\n",
       "      <th>SellerRevCnt</th>\n",
       "      <th>SellerState</th>\n",
       "      <th>SellerZip</th>\n",
       "      <th>VehBodystyle</th>\n",
       "      <th>...</th>\n",
       "      <th>VehHistory</th>\n",
       "      <th>VehListdays</th>\n",
       "      <th>VehMake</th>\n",
       "      <th>VehMileage</th>\n",
       "      <th>VehModel</th>\n",
       "      <th>VehPriceLabel</th>\n",
       "      <th>VehSellerNotes</th>\n",
       "      <th>VehType</th>\n",
       "      <th>VehTransmission</th>\n",
       "      <th>VehYear</th>\n",
       "    </tr>\n",
       "  </thead>\n",
       "  <tbody>\n",
       "    <tr>\n",
       "      <th>0</th>\n",
       "      <td>8622015</td>\n",
       "      <td>Seneca</td>\n",
       "      <td>False</td>\n",
       "      <td>HomeNet Automotive</td>\n",
       "      <td>Lake Keowee Chrysler Dodge Jeep Ram</td>\n",
       "      <td>2.5</td>\n",
       "      <td>59</td>\n",
       "      <td>SC</td>\n",
       "      <td>29678</td>\n",
       "      <td>SUV</td>\n",
       "      <td>...</td>\n",
       "      <td>1 Owner, Non-Personal Use Reported, Buyback Pr...</td>\n",
       "      <td>143.991262</td>\n",
       "      <td>Cadillac</td>\n",
       "      <td>13625.0</td>\n",
       "      <td>XT5</td>\n",
       "      <td>Good Deal</td>\n",
       "      <td>Thank you for visiting another one of Lake Keo...</td>\n",
       "      <td>Used</td>\n",
       "      <td>8-Speed Automatic</td>\n",
       "      <td>2018</td>\n",
       "    </tr>\n",
       "    <tr>\n",
       "      <th>1</th>\n",
       "      <td>8625693</td>\n",
       "      <td>Bedford</td>\n",
       "      <td>False</td>\n",
       "      <td>Inventory Command Center</td>\n",
       "      <td>North Coast Auto Mall</td>\n",
       "      <td>4.7</td>\n",
       "      <td>2116</td>\n",
       "      <td>OH</td>\n",
       "      <td>44146</td>\n",
       "      <td>SUV</td>\n",
       "      <td>...</td>\n",
       "      <td>1 Owner, Accident(s) Reported, Non-Personal Us...</td>\n",
       "      <td>138.770486</td>\n",
       "      <td>Jeep</td>\n",
       "      <td>42553.0</td>\n",
       "      <td>Grand Cherokee</td>\n",
       "      <td>Good Deal</td>\n",
       "      <td>This 2017 Jeep Grand Cherokee 4dr Limited 4x4 ...</td>\n",
       "      <td>Used</td>\n",
       "      <td>8-Speed Automatic</td>\n",
       "      <td>2017</td>\n",
       "    </tr>\n",
       "    <tr>\n",
       "      <th>2</th>\n",
       "      <td>8625750</td>\n",
       "      <td>Webster</td>\n",
       "      <td>False</td>\n",
       "      <td>Jeep Certified Program</td>\n",
       "      <td>Marina Chrysler Dodge Jeep Mitsubishi RAM</td>\n",
       "      <td>3.9</td>\n",
       "      <td>46</td>\n",
       "      <td>NY</td>\n",
       "      <td>14580</td>\n",
       "      <td>SUV</td>\n",
       "      <td>...</td>\n",
       "      <td>1 Owner, Buyback Protection Eligible</td>\n",
       "      <td>31.951088</td>\n",
       "      <td>Jeep</td>\n",
       "      <td>48951.0</td>\n",
       "      <td>Grand Cherokee</td>\n",
       "      <td>Good Deal</td>\n",
       "      <td>Certified. Brilliant Black Crystal Pearlcoat 2...</td>\n",
       "      <td>Used</td>\n",
       "      <td>8-Speed Automatic</td>\n",
       "      <td>2015</td>\n",
       "    </tr>\n",
       "  </tbody>\n",
       "</table>\n",
       "<p>3 rows × 27 columns</p>\n",
       "</div>"
      ],
      "text/plain": [
       "   ListingID SellerCity  SellerIsPriv             SellerListSrc  \\\n",
       "0    8622015     Seneca         False        HomeNet Automotive   \n",
       "1    8625693    Bedford         False  Inventory Command Center   \n",
       "2    8625750    Webster         False    Jeep Certified Program   \n",
       "\n",
       "                                  SellerName  SellerRating  SellerRevCnt  \\\n",
       "0        Lake Keowee Chrysler Dodge Jeep Ram           2.5            59   \n",
       "1                      North Coast Auto Mall           4.7          2116   \n",
       "2  Marina Chrysler Dodge Jeep Mitsubishi RAM           3.9            46   \n",
       "\n",
       "  SellerState  SellerZip VehBodystyle  ...  \\\n",
       "0          SC      29678          SUV  ...   \n",
       "1          OH      44146          SUV  ...   \n",
       "2          NY      14580          SUV  ...   \n",
       "\n",
       "                                          VehHistory VehListdays   VehMake  \\\n",
       "0  1 Owner, Non-Personal Use Reported, Buyback Pr...  143.991262  Cadillac   \n",
       "1  1 Owner, Accident(s) Reported, Non-Personal Us...  138.770486      Jeep   \n",
       "2               1 Owner, Buyback Protection Eligible   31.951088      Jeep   \n",
       "\n",
       "  VehMileage        VehModel VehPriceLabel  \\\n",
       "0    13625.0             XT5     Good Deal   \n",
       "1    42553.0  Grand Cherokee     Good Deal   \n",
       "2    48951.0  Grand Cherokee     Good Deal   \n",
       "\n",
       "                                      VehSellerNotes VehType  \\\n",
       "0  Thank you for visiting another one of Lake Keo...    Used   \n",
       "1  This 2017 Jeep Grand Cherokee 4dr Limited 4x4 ...    Used   \n",
       "2  Certified. Brilliant Black Crystal Pearlcoat 2...    Used   \n",
       "\n",
       "     VehTransmission VehYear  \n",
       "0  8-Speed Automatic    2018  \n",
       "1  8-Speed Automatic    2017  \n",
       "2  8-Speed Automatic    2015  \n",
       "\n",
       "[3 rows x 27 columns]"
      ]
     },
     "execution_count": 4,
     "metadata": {},
     "output_type": "execute_result"
    }
   ],
   "source": [
    "Test_df.head(3)"
   ]
  },
  {
   "cell_type": "code",
   "execution_count": 5,
   "metadata": {},
   "outputs": [
    {
     "data": {
      "text/plain": [
       "(1000, 27)"
      ]
     },
     "execution_count": 5,
     "metadata": {},
     "output_type": "execute_result"
    }
   ],
   "source": [
    "Test_df.shape"
   ]
  },
  {
   "cell_type": "markdown",
   "metadata": {},
   "source": [
    "It is possible to see that the Training Dataset contains 27 columns and 1000 data points, this since the 2 **target** variables were removed from the dataset."
   ]
  },
  {
   "cell_type": "code",
   "execution_count": 6,
   "metadata": {},
   "outputs": [
    {
     "data": {
      "text/plain": [
       "ListingID                 int64\n",
       "SellerCity               object\n",
       "SellerIsPriv               bool\n",
       "SellerListSrc            object\n",
       "SellerName               object\n",
       "SellerRating            float64\n",
       "SellerRevCnt              int64\n",
       "SellerState              object\n",
       "SellerZip               float64\n",
       "VehBodystyle             object\n",
       "VehCertified               bool\n",
       "VehColorExt              object\n",
       "VehColorInt              object\n",
       "VehDriveTrain            object\n",
       "VehEngine                object\n",
       "VehFeats                 object\n",
       "VehFuel                  object\n",
       "VehHistory               object\n",
       "VehListdays             float64\n",
       "VehMake                  object\n",
       "VehMileage              float64\n",
       "VehModel                 object\n",
       "VehPriceLabel            object\n",
       "VehSellerNotes           object\n",
       "VehType                  object\n",
       "VehTransmission          object\n",
       "VehYear                   int64\n",
       "Vehicle_Trim             object\n",
       "Dealer_Listing_Price    float64\n",
       "dtype: object"
      ]
     },
     "execution_count": 6,
     "metadata": {},
     "output_type": "execute_result"
    }
   ],
   "source": [
    "Training_df.dtypes"
   ]
  },
  {
   "cell_type": "markdown",
   "metadata": {},
   "source": [
    "Looking at the data, the type distribution is as follows:\n",
    "- 8 Numerical Variables (6 `float64` & 2 `int64`)\n",
    "- 2 Boolean Variables (`bool`)\n",
    "- 19 Categorical Variables (`object`)"
   ]
  },
  {
   "cell_type": "markdown",
   "metadata": {},
   "source": [
    "### Distribution of the Target Variable"
   ]
  },
  {
   "cell_type": "code",
   "execution_count": 7,
   "metadata": {},
   "outputs": [
    {
     "data": {
      "image/png": "[encoded data removed]",
      "text/plain": [
       "<Figure size 720x288 with 1 Axes>"
      ]
     },
     "metadata": {
      "needs_background": "light"
     },
     "output_type": "display_data"
    }
   ],
   "source": [
    "import matplotlib.pyplot as plt\n",
    "Training_df['Dealer_Listing_Price'].hist(figsize = (10,4))\n",
    "plt.xlabel('Dealer Price', fontsize = 20)\n",
    "plt.ylabel('Frequency',fontsize = 20)\n",
    "plt.title('Dealer Listing Price', fontsize = 20)\n",
    "plt.tick_params(axis=\"x\", labelsize=15)\n",
    "plt.tick_params(axis=\"y\", labelsize=15)\n",
    "plt.grid(True)\n",
    "plt.show()"
   ]
  },
  {
   "cell_type": "code",
   "execution_count": 8,
   "metadata": {},
   "outputs": [
    {
     "data": {
      "image/png": "[encoded data removed]",
      "text/plain": [
       "<Figure size 720x288 with 1 Axes>"
      ]
     },
     "metadata": {
      "needs_background": "light"
     },
     "output_type": "display_data"
    }
   ],
   "source": [
    "Training_df['Vehicle_Trim'].hist(figsize = (10,4))\n",
    "#plt.xlabel('Trim', fontsize = 20)\n",
    "plt.ylabel('Frequency',fontsize = 20)\n",
    "plt.title('Vehicle Trim', fontsize = 20)\n",
    "plt.tick_params(axis=\"x\", labelsize=10, rotation=90)\n",
    "plt.tick_params(axis=\"y\", labelsize=15)\n",
    "plt.grid(True)\n",
    "plt.show()"
   ]
  },
  {
   "cell_type": "markdown",
   "metadata": {},
   "source": [
    "###  Distribution of Numerical Variables"
   ]
  },
  {
   "cell_type": "code",
   "execution_count": 9,
   "metadata": {},
   "outputs": [],
   "source": [
    "numeric_columns = ['SellerRating', 'SellerRevCnt', 'VehListdays', 'VehMileage', 'VehYear']"
   ]
  },
  {
   "cell_type": "code",
   "execution_count": 10,
   "metadata": {},
   "outputs": [
    {
     "data": {
      "image/png": "[encoded data removed]",
      "text/plain": [
       "<Figure size 576x216 with 1 Axes>"
      ]
     },
     "metadata": {
      "needs_background": "light"
     },
     "output_type": "display_data"
    },
    {
     "data": {
      "image/png": "[encoded data removed]",
      "text/plain": [
       "<Figure size 576x216 with 1 Axes>"
      ]
     },
     "metadata": {
      "needs_background": "light"
     },
     "output_type": "display_data"
    },
    {
     "data": {
      "image/png": "[encoded data removed]",
      "text/plain": [
       "<Figure size 576x216 with 1 Axes>"
      ]
     },
     "metadata": {
      "needs_background": "light"
     },
     "output_type": "display_data"
    },
    {
     "data": {
      "image/png": "[encoded data removed]",
      "text/plain": [
       "<Figure size 576x216 with 1 Axes>"
      ]
     },
     "metadata": {
      "needs_background": "light"
     },
     "output_type": "display_data"
    },
    {
     "data": {
      "image/png": "[encoded data removed]",
      "text/plain": [
       "<Figure size 576x216 with 1 Axes>"
      ]
     },
     "metadata": {
      "needs_background": "light"
     },
     "output_type": "display_data"
    }
   ],
   "source": [
    "import matplotlib.pyplot as plt\n",
    "\n",
    "def hist_plot(df,a):\n",
    "    df[a].hist(figsize = (8,3))\n",
    "    plt.xlabel(a, fontsize = 15)\n",
    "    plt.ylabel('Frequency',fontsize = 15)\n",
    "    plt.tick_params(axis=\"x\", labelsize=10)\n",
    "    plt.tick_params(axis=\"y\", labelsize=10)\n",
    "    plt.grid(True)\n",
    "    plt.show()\n",
    "    \n",
    "for i in numeric_columns:\n",
    "    hist_plot(Training_df, i)"
   ]
  },
  {
   "cell_type": "code",
   "execution_count": 11,
   "metadata": {},
   "outputs": [
    {
     "data": {
      "image/png": "[encoded data removed]",
      "text/plain": [
       "<Figure size 432x288 with 1 Axes>"
      ]
     },
     "metadata": {
      "needs_background": "light"
     },
     "output_type": "display_data"
    }
   ],
   "source": [
    "plt.scatter(Training_df['SellerZip'], Training_df['Dealer_Listing_Price'])\n",
    "plt.title('Price Vs Zipcode', fontsize = 15)\n",
    "plt.xlabel('Zipcode', fontsize = 12)\n",
    "plt.ylabel('Price', fontsize = 12)\n",
    "plt.grid()\n",
    "plt.show()"
   ]
  },
  {
   "cell_type": "markdown",
   "metadata": {},
   "source": [
    "It seems zipcode does not provide a clear difference in reference to the `Price` target variable."
   ]
  },
  {
   "cell_type": "markdown",
   "metadata": {},
   "source": [
    "## Data Formatting"
   ]
  },
  {
   "cell_type": "markdown",
   "metadata": {},
   "source": [
    "### Missing Values"
   ]
  },
  {
   "cell_type": "code",
   "execution_count": 12,
   "metadata": {},
   "outputs": [],
   "source": [
    "def missing_values(data):\n",
    "    columns = data.columns.to_list()\n",
    "    missing_values = []\n",
    "    my_list = data.columns.values.tolist()\n",
    "    y = data.shape\n",
    "    for i in my_list:\n",
    "        x = data[i].isnull().sum()\n",
    "        missing_values.append(x)\n",
    "\n",
    "    columns_missing = dict(zip(my_list, missing_values))\n",
    "    a = sorted(columns_missing.items(), key=lambda x: x[1], reverse = True)  \n",
    "\n",
    "    missing_columns_names = []\n",
    "    for key, value in columns_missing.items():\n",
    "        if value > 0: \n",
    "            x = key\n",
    "            missing_columns_names.append(x)\n",
    "    return columns_missing, missing_columns_names"
   ]
  },
  {
   "cell_type": "code",
   "execution_count": 13,
   "metadata": {},
   "outputs": [],
   "source": [
    "#Training Data\n",
    "dic_missing, missing_columns_names = missing_values(Training_df)\n",
    "\n",
    "#Testing Data\n",
    "dic_missing_test, missing_columns_names_test = missing_values(Test_df)"
   ]
  },
  {
   "cell_type": "code",
   "execution_count": 14,
   "metadata": {},
   "outputs": [
    {
     "name": "stdout",
     "output_type": "stream",
     "text": [
      "Training Data\n",
      "{'ListingID': 0, 'SellerCity': 0, 'SellerIsPriv': 0, 'SellerListSrc': 2, 'SellerName': 0, 'SellerRating': 0, 'SellerRevCnt': 0, 'SellerState': 0, 'SellerZip': 2, 'VehBodystyle': 0, 'VehCertified': 0, 'VehColorExt': 73, 'VehColorInt': 728, 'VehDriveTrain': 401, 'VehEngine': 361, 'VehFeats': 275, 'VehFuel': 2, 'VehHistory': 201, 'VehListdays': 2, 'VehMake': 0, 'VehMileage': 2, 'VehModel': 0, 'VehPriceLabel': 285, 'VehSellerNotes': 243, 'VehType': 0, 'VehTransmission': 197, 'VehYear': 0, 'Vehicle_Trim': 405, 'Dealer_Listing_Price': 52}\n"
     ]
    }
   ],
   "source": [
    "print('Training Data')\n",
    "print(dic_missing)"
   ]
  },
  {
   "cell_type": "code",
   "execution_count": 15,
   "metadata": {},
   "outputs": [
    {
     "name": "stdout",
     "output_type": "stream",
     "text": [
      "Test Data\n",
      "{'ListingID': 0, 'SellerCity': 0, 'SellerIsPriv': 0, 'SellerListSrc': 0, 'SellerName': 0, 'SellerRating': 0, 'SellerRevCnt': 0, 'SellerState': 0, 'SellerZip': 0, 'VehBodystyle': 0, 'VehCertified': 0, 'VehColorExt': 7, 'VehColorInt': 108, 'VehDriveTrain': 64, 'VehEngine': 58, 'VehFeats': 37, 'VehFuel': 0, 'VehHistory': 27, 'VehListdays': 0, 'VehMake': 0, 'VehMileage': 1, 'VehModel': 0, 'VehPriceLabel': 38, 'VehSellerNotes': 41, 'VehType': 0, 'VehTransmission': 27, 'VehYear': 0}\n"
     ]
    }
   ],
   "source": [
    "print('Test Data')\n",
    "print(dic_missing_test)"
   ]
  },
  {
   "cell_type": "markdown",
   "metadata": {},
   "source": [
    "Looking at the data we can see that there are some columns with more than 10% (`VehColorInt`) of missing data points."
   ]
  },
  {
   "cell_type": "code",
   "execution_count": 16,
   "metadata": {},
   "outputs": [
    {
     "name": "stdout",
     "output_type": "stream",
     "text": [
      "Columns with missing values greater than 200 (Training): \n",
      "['SellerListSrc', 'SellerZip', 'VehColorExt', 'VehColorInt', 'VehDriveTrain', 'VehEngine', 'VehFeats', 'VehFuel', 'VehHistory', 'VehListdays', 'VehMileage', 'VehPriceLabel', 'VehSellerNotes', 'VehTransmission', 'Vehicle_Trim', 'Dealer_Listing_Price']\n"
     ]
    }
   ],
   "source": [
    "print('Columns with missing values greater than 200 (Training): ')\n",
    "print(missing_columns_names)"
   ]
  },
  {
   "cell_type": "code",
   "execution_count": 17,
   "metadata": {},
   "outputs": [
    {
     "name": "stdout",
     "output_type": "stream",
     "text": [
      "Columns with missing values greater than 200 (Test): \n",
      "['VehColorExt', 'VehColorInt', 'VehDriveTrain', 'VehEngine', 'VehFeats', 'VehHistory', 'VehMileage', 'VehPriceLabel', 'VehSellerNotes', 'VehTransmission']\n"
     ]
    }
   ],
   "source": [
    "print('Columns with missing values greater than 200 (Test): ')\n",
    "print(missing_columns_names_test)"
   ]
  },
  {
   "cell_type": "code",
   "execution_count": 18,
   "metadata": {},
   "outputs": [],
   "source": [
    "# For the training data the missing values will be removed\n",
    "data = Training_df.copy()\n",
    "data.dropna(inplace = True)\n",
    "data.shape\n",
    "data = data.reset_index()"
   ]
  },
  {
   "cell_type": "code",
   "execution_count": 19,
   "metadata": {},
   "outputs": [],
   "source": [
    "# For the testing data the missing values will be filled with the mode and median\n",
    "test_data = Test_df.copy()\n",
    "categorical_test_missing = ['VehColorExt', 'VehColorInt', 'VehDriveTrain', 'VehEngine', 'VehFeats', 'VehHistory', 'VehPriceLabel', 'VehSellerNotes', 'VehTransmission']\n",
    "numerical_test_missing = ['VehMileage']\n",
    "\n",
    "# Replace missing values by median and mode\n",
    "import statistics as st\n",
    "\n",
    "for i in numerical_test_missing:\n",
    "    test_data[i].fillna(test_data[i].median(), inplace=True)\n",
    "    \n",
    "for i in categorical_test_missing:\n",
    "    test_data[i].fillna(st.mode(test_data[i]), inplace=True)"
   ]
  },
  {
   "cell_type": "markdown",
   "metadata": {},
   "source": [
    "If the missing data is dropped we will reduce the dataset by around 15%."
   ]
  },
  {
   "cell_type": "markdown",
   "metadata": {},
   "source": [
    "### Removing Columns from dataset"
   ]
  },
  {
   "cell_type": "markdown",
   "metadata": {},
   "source": [
    "Based on the nature of the data some columns will be removed as they do not add to the prediction:\n",
    "- `ListingID`\n",
    "- `VehSellerNotes`\n",
    "- `SellerZip`"
   ]
  },
  {
   "cell_type": "code",
   "execution_count": 20,
   "metadata": {},
   "outputs": [],
   "source": [
    "# For Training Dataset\n",
    "data.drop(columns=['ListingID', 'VehSellerNotes', 'SellerZip', 'index'], inplace = True)\n",
    "columns_updated = data.columns.to_list()"
   ]
  },
  {
   "cell_type": "code",
   "execution_count": 21,
   "metadata": {},
   "outputs": [],
   "source": [
    "# For Testing Dataset\n",
    "test_data.drop(columns=['ListingID', 'VehSellerNotes', 'SellerZip'], inplace = True)\n",
    "test_columns_updated = test_data.columns.to_list()"
   ]
  },
  {
   "cell_type": "markdown",
   "metadata": {},
   "source": [
    "### Formatting Boolean Variables"
   ]
  },
  {
   "cell_type": "code",
   "execution_count": 22,
   "metadata": {},
   "outputs": [],
   "source": [
    "boolean_columns = ['SellerIsPriv', 'VehCertified']\n",
    "def boolean_format(columns, df):\n",
    "    for i in columns:\n",
    "        df[i] = df[i].astype(int)"
   ]
  },
  {
   "cell_type": "code",
   "execution_count": 23,
   "metadata": {},
   "outputs": [],
   "source": [
    "#Training Dataset        \n",
    "boolean_format(boolean_columns, data)"
   ]
  },
  {
   "cell_type": "code",
   "execution_count": 24,
   "metadata": {},
   "outputs": [],
   "source": [
    "#Test Dataset        \n",
    "boolean_format(boolean_columns, test_data)"
   ]
  },
  {
   "cell_type": "markdown",
   "metadata": {},
   "source": [
    "### Normalizing Numerical Variables"
   ]
  },
  {
   "cell_type": "code",
   "execution_count": 25,
   "metadata": {},
   "outputs": [],
   "source": [
    "def normalization_format(numeric_columns, df):\n",
    "    from sklearn.preprocessing import StandardScaler\n",
    "    scaler = StandardScaler()\n",
    "    scaler.fit(df[numeric_columns])\n",
    "    data_scaled = scaler.transform(df[numeric_columns])\n",
    "    df1 = pd.DataFrame(data_scaled, columns = numeric_columns)\n",
    "    return df1"
   ]
  },
  {
   "cell_type": "code",
   "execution_count": 26,
   "metadata": {},
   "outputs": [],
   "source": [
    "# Training Dataset\n",
    "data_norm = normalization_format(numeric_columns, data)\n",
    "data.drop(columns = numeric_columns, inplace = True)\n",
    "data = data.join(data_norm)"
   ]
  },
  {
   "cell_type": "code",
   "execution_count": 27,
   "metadata": {},
   "outputs": [],
   "source": [
    "# Test Dataset\n",
    "data_norm_test = normalization_format(numeric_columns, test_data)\n",
    "test_data.drop(columns = numeric_columns, inplace = True)\n",
    "test_data = test_data.join(data_norm_test)"
   ]
  },
  {
   "cell_type": "code",
   "execution_count": 28,
   "metadata": {},
   "outputs": [],
   "source": [
    "# Special Columns\n",
    "special_columns = ['VehHistory', 'VehFeats']\n",
    "targets = [\"Vehicle_Trim\", \"Dealer_Listing_Price\"]"
   ]
  },
  {
   "cell_type": "code",
   "execution_count": 29,
   "metadata": {},
   "outputs": [],
   "source": [
    "def categorical_format(column, df):\n",
    "    df[column] = df[column].astype('category')\n",
    "    df[\"Vehicle_Trim_cat\"] = df[column].cat.codes\n",
    "    df.drop(columns = column, inplace = True)"
   ]
  },
  {
   "cell_type": "code",
   "execution_count": 30,
   "metadata": {},
   "outputs": [],
   "source": [
    "# Training Data (This Column is not present in the Test Data)   \n",
    "categorical_format('Vehicle_Trim', data)"
   ]
  },
  {
   "cell_type": "code",
   "execution_count": 31,
   "metadata": {},
   "outputs": [],
   "source": [
    "categorical_columns = [i for i in columns_updated if i not in numeric_columns]\n",
    "categorical_columns = [i for i in categorical_columns if i not in boolean_columns]\n",
    "categorical_columns = [i for i in categorical_columns if i not in special_columns]\n",
    "categorical_columns = [i for i in categorical_columns if i not in targets]"
   ]
  },
  {
   "cell_type": "code",
   "execution_count": 32,
   "metadata": {},
   "outputs": [],
   "source": [
    "for i in categorical_columns:\n",
    "    data[i] = data[i].str.lower() #Training \n",
    "    test_data[i] = test_data[i].str.lower() #Test"
   ]
  },
  {
   "cell_type": "markdown",
   "metadata": {},
   "source": [
    "### One Hot Encoding For Categorical Columns"
   ]
  },
  {
   "cell_type": "code",
   "execution_count": 33,
   "metadata": {},
   "outputs": [],
   "source": [
    "def hot_encoding(data, categorical_columns):\n",
    "    one_hot = pd.get_dummies(data[categorical_columns])\n",
    "    return one_hot"
   ]
  },
  {
   "cell_type": "code",
   "execution_count": 34,
   "metadata": {},
   "outputs": [],
   "source": [
    "# Hot encoding for Training \n",
    "one_hot = hot_encoding(data, categorical_columns)\n",
    "data = data.join(one_hot)\n",
    "data.drop(columns = categorical_columns, inplace = True)"
   ]
  },
  {
   "cell_type": "code",
   "execution_count": 35,
   "metadata": {},
   "outputs": [],
   "source": [
    "# Hot encoding for Test\n",
    "one_hot_test = hot_encoding(test_data, categorical_columns)\n",
    "test_data = test_data.join(one_hot_test)\n",
    "test_data.drop(columns = categorical_columns, inplace = True)"
   ]
  },
  {
   "cell_type": "markdown",
   "metadata": {},
   "source": [
    "### Formatting of two *List of Lists* Columns  (`VehHistory` & `VehFeats`)"
   ]
  },
  {
   "cell_type": "markdown",
   "metadata": {},
   "source": [
    "There are 2 columns with a list of values that might be important for the analysis. For this reason they are going to be split and included as features (One Hot Encoding):\n",
    "- `VehHistory`\n",
    "- `VehFeats`"
   ]
  },
  {
   "cell_type": "markdown",
   "metadata": {},
   "source": [
    "### `VehFeats`"
   ]
  },
  {
   "cell_type": "code",
   "execution_count": 36,
   "metadata": {},
   "outputs": [],
   "source": [
    "def veh_features(data):\n",
    "    x = pd.Series(data['VehFeats'])\n",
    "    split_df = data['VehFeats'].tolist()\n",
    "    mySeries = pd.Series(split_df) \n",
    "    x = mySeries[2][1:-1]\n",
    "    letter_list = x.split(\",\")\n",
    "\n",
    "    list_of_lists = []\n",
    "    for i in range(len(mySeries)):\n",
    "        x = mySeries[i][1:-1]\n",
    "        new_string = x.replace(\" '\", \"\")\n",
    "        new_string = new_string.replace(\"'\", \"\")\n",
    "        new_string = new_string.replace(\",\", \"_\")\n",
    "        new_string = new_string.replace(\";\", \"_\")\n",
    "        new_string = new_string.lower()\n",
    "        letter_list = new_string.split(\"_\")\n",
    "        list_of_lists.append(letter_list)\n",
    "\n",
    "    from sklearn.preprocessing import MultiLabelBinarizer\n",
    "    \n",
    "    test = pd.Series(list_of_lists)\n",
    "    mlb = MultiLabelBinarizer()\n",
    "    onehot_VehFeats = pd.DataFrame(mlb.fit_transform(test),\n",
    "                       columns=mlb.classes_,\n",
    "                       index=test.index)\n",
    "    return onehot_VehFeats"
   ]
  },
  {
   "cell_type": "code",
   "execution_count": 37,
   "metadata": {},
   "outputs": [],
   "source": [
    "# Training Dataset\n",
    "onehot_VehFeats = veh_features(data)\n",
    "data = data.join(onehot_VehFeats)\n",
    "data.drop(columns = 'VehFeats', inplace = True)"
   ]
  },
  {
   "cell_type": "code",
   "execution_count": 38,
   "metadata": {},
   "outputs": [],
   "source": [
    "# Test Dataset\n",
    "onehot_VehFeats_test = veh_features(test_data)\n",
    "test_data = test_data.join(onehot_VehFeats_test)\n",
    "test_data.drop(columns = 'VehFeats', inplace = True)"
   ]
  },
  {
   "cell_type": "markdown",
   "metadata": {},
   "source": [
    "### `VehHistory`"
   ]
  },
  {
   "cell_type": "code",
   "execution_count": 39,
   "metadata": {},
   "outputs": [],
   "source": [
    "def veh_history(data):\n",
    "    split_df2 = data['VehHistory'].tolist()\n",
    "    mySeries2 = pd.Series(split_df2) \n",
    "\n",
    "    list_of_lists2 = []\n",
    "    for i in range(len(mySeries2)):\n",
    "        w = mySeries2[i]\n",
    "        letter_list2 = w.split(\",\")\n",
    "        list_of_lists2.append(letter_list2)\n",
    "        \n",
    "    from sklearn.preprocessing import MultiLabelBinarizer\n",
    "    \n",
    "    test2 = pd.Series(list_of_lists2)\n",
    "    mlb2 = MultiLabelBinarizer()\n",
    "    onehot_VehHistory = pd.DataFrame(mlb2.fit_transform(test2),\n",
    "                       columns=mlb2.classes_,\n",
    "                       index=test2.index)\n",
    "    return onehot_VehHistory"
   ]
  },
  {
   "cell_type": "code",
   "execution_count": 40,
   "metadata": {},
   "outputs": [],
   "source": [
    "# Training Dataset\n",
    "onehot_VehHistory = veh_history(data)\n",
    "data = data.join(onehot_VehHistory)\n",
    "data.drop(columns = 'VehHistory', inplace = True)"
   ]
  },
  {
   "cell_type": "code",
   "execution_count": 41,
   "metadata": {},
   "outputs": [],
   "source": [
    "# Test Dataset\n",
    "onehot_VehHistory_test = veh_history(test_data)\n",
    "test_data = test_data.join(onehot_VehHistory_test)\n",
    "test_data.drop(columns = 'VehHistory', inplace = True)"
   ]
  },
  {
   "cell_type": "markdown",
   "metadata": {},
   "source": [
    "### Splitting the dataset into Target Variables and Features (Training Dataset)"
   ]
  },
  {
   "cell_type": "code",
   "execution_count": 42,
   "metadata": {},
   "outputs": [],
   "source": [
    "target_price = data['Dealer_Listing_Price']\n",
    "target_trim = data['Vehicle_Trim_cat']\n",
    "\n",
    "data.drop(columns = ['Dealer_Listing_Price', 'Vehicle_Trim_cat'], inplace = True)\n",
    "columns_model = data.columns.to_list()\n",
    "#features = data[columns_model]"
   ]
  },
  {
   "cell_type": "code",
   "execution_count": 43,
   "metadata": {},
   "outputs": [],
   "source": [
    "columns_model_test = test_data.columns.to_list()"
   ]
  },
  {
   "cell_type": "code",
   "execution_count": 44,
   "metadata": {},
   "outputs": [],
   "source": [
    "list1_as_set = set(columns_model_test)\n",
    "intersection = list1_as_set.intersection(columns_model)\n",
    "intersection_as_list = list(intersection)"
   ]
  },
  {
   "cell_type": "code",
   "execution_count": 45,
   "metadata": {},
   "outputs": [],
   "source": [
    "features = data[intersection_as_list]"
   ]
  },
  {
   "cell_type": "markdown",
   "metadata": {},
   "source": [
    "Since this is going to help in the prediction of a test dataset that has not been seen by the model, it is important to ensure that variables used by the model are the same for both dataframes (hence the last step)."
   ]
  },
  {
   "cell_type": "markdown",
   "metadata": {},
   "source": [
    "# NOTE: Training Features and Test Features have to be the same"
   ]
  },
  {
   "cell_type": "markdown",
   "metadata": {},
   "source": [
    "## Model 1: Prediction of `Dealer Listing Price`"
   ]
  },
  {
   "cell_type": "markdown",
   "metadata": {},
   "source": [
    "### Feature Selection (LASSO) for `Dealer Listing Price` Variable"
   ]
  },
  {
   "cell_type": "code",
   "execution_count": 46,
   "metadata": {},
   "outputs": [],
   "source": [
    "# LASSO\n",
    "def feature_select_lasso(features, target_price, alpha_val):\n",
    "    \n",
    "    from sklearn import linear_model\n",
    "    alpha = alpha_val # Increasing alpha can shrink more variable coefficients to 0\n",
    "    clf = linear_model.Lasso(alpha=alpha)\n",
    "\n",
    "    clf.fit(features, target_price)\n",
    "    lasso_coef = clf.coef_\n",
    "    wrapper_columns = features.columns.tolist()\n",
    "\n",
    "    #Selection of the non zero coefficients from the LASSO regression\n",
    "    lasso_features = []\n",
    "    non_lasso_features = []\n",
    "    for i in range(len(wrapper_columns)):\n",
    "        w = lasso_coef[i]\n",
    "        if w != 0:\n",
    "            u = wrapper_columns[i]\n",
    "            lasso_features.append(u)\n",
    "        else:\n",
    "            t = wrapper_columns[i]\n",
    "            non_lasso_features.append(t)\n",
    "\n",
    "    len_lasso = len(lasso_features)\n",
    "    return lasso_features, len_lasso"
   ]
  },
  {
   "cell_type": "code",
   "execution_count": 47,
   "metadata": {},
   "outputs": [
    {
     "name": "stdout",
     "output_type": "stream",
     "text": [
      "# of Features using LASSO: 350\n"
     ]
    }
   ],
   "source": [
    "lasso_features, len_lasso = feature_select_lasso(features, target_price, 2)\n",
    "print('# of Features using LASSO: ' + str(len_lasso))"
   ]
  },
  {
   "cell_type": "markdown",
   "metadata": {},
   "source": [
    "### Model for `Dealer Listing Price` prediction"
   ]
  },
  {
   "cell_type": "code",
   "execution_count": 48,
   "metadata": {},
   "outputs": [],
   "source": [
    "from sklearn.model_selection import train_test_split\n",
    "lasso_variables = data[lasso_features]\n",
    "X_train, X_test, y_train, y_test = train_test_split(lasso_variables, target_price, test_size=0.20, random_state=42)"
   ]
  },
  {
   "cell_type": "code",
   "execution_count": 49,
   "metadata": {},
   "outputs": [],
   "source": [
    "#Getting the regression using sklearn\n",
    "from sklearn.linear_model import LinearRegression\n",
    "\n",
    "regression_model = LinearRegression()\n",
    "\n",
    "# Fit the data(train the model)\n",
    "multi_model_sk = regression_model.fit(X_train, y_train)\n",
    "\n",
    "# Predict\n",
    "y_predicted_sk = multi_model_sk.predict(X_test)\n",
    "\n",
    "#Coefficients from linear equation\n",
    "# print('Intercept: \\n', multi_model_sk.intercept_) # pull out intercept\n",
    "# print('Coefficients: \\n', multi_model_sk.coef_) # pull out coeffeicients"
   ]
  },
  {
   "cell_type": "code",
   "execution_count": 50,
   "metadata": {},
   "outputs": [],
   "source": [
    "#Getting the regression with statsmodels\n",
    "import statsmodels.api as sm\n",
    "\n",
    "Attributes = sm.add_constant(X_train) # adding a constant\n",
    "multi_model_st = sm.OLS(y_train, Attributes).fit()\n",
    "predicted_st = multi_model_st.predict()"
   ]
  },
  {
   "cell_type": "code",
   "execution_count": 51,
   "metadata": {},
   "outputs": [
    {
     "name": "stdout",
     "output_type": "stream",
     "text": [
      "\n",
      " Training: MSE & RMSE for:\n",
      "RMSE: 26299.916201118293\n"
     ]
    }
   ],
   "source": [
    "import math\n",
    "\n",
    "#From Stats model\n",
    "print('\\n Training: MSE & RMSE for:')\n",
    "mse_training = multi_model_st.mse_model\n",
    "rmse_training = math.sqrt(mse_training)\n",
    "\n",
    "print('RMSE: {}'.format(rmse_training))"
   ]
  },
  {
   "cell_type": "code",
   "execution_count": 52,
   "metadata": {
    "scrolled": true
   },
   "outputs": [],
   "source": [
    "def scatters(a,b,c,d):\n",
    "    plt.figure(figsize=(10, 6)).gca()\n",
    "    plt.scatter(a, b)\n",
    "    plt.plot(a, c, linewidth=3, color = 'red')\n",
    "    plt.grid(True)\n",
    "    plt.xlabel(d)\n",
    "    plt.ylabel('Price')\n",
    "    plt.title('Regression using: ' + d)"
   ]
  },
  {
   "cell_type": "markdown",
   "metadata": {},
   "source": [
    "### Training Results"
   ]
  },
  {
   "cell_type": "code",
   "execution_count": 53,
   "metadata": {},
   "outputs": [
    {
     "data": {
      "image/png": "[encoded data removed]",
      "text/plain": [
       "<Figure size 720x432 with 1 Axes>"
      ]
     },
     "metadata": {
      "needs_background": "light"
     },
     "output_type": "display_data"
    }
   ],
   "source": [
    "scatters(predicted_st, y_train, predicted_st, 'All Variables (Prediction) - Train Data')"
   ]
  },
  {
   "cell_type": "code",
   "execution_count": 54,
   "metadata": {},
   "outputs": [
    {
     "name": "stdout",
     "output_type": "stream",
     "text": [
      "Adj R-Squared: 0.9198053887796069\n"
     ]
    }
   ],
   "source": [
    "rsq_adj = multi_model_st.rsquared_adj\n",
    "print('Adj R-Squared: {}'.format(rsq_adj))"
   ]
  },
  {
   "cell_type": "markdown",
   "metadata": {},
   "source": [
    "### Test Results"
   ]
  },
  {
   "cell_type": "code",
   "execution_count": 55,
   "metadata": {
    "scrolled": true
   },
   "outputs": [],
   "source": [
    "y_predicted_sk = pd.Series(y_predicted_sk)\n",
    "indexes = []\n",
    "for i in range(len(y_predicted_sk)):\n",
    "    if y_predicted_sk[i] > 200000 or y_predicted_sk[i] < 1000:\n",
    "        indexes.append(i)\n",
    "y_predicted_sk = y_predicted_sk.drop(indexes)\n",
    "\n",
    "y_test = y_test.reset_index()\n",
    "y_test = y_test.Dealer_Listing_Price\n",
    "y_test = y_test.drop(indexes)"
   ]
  },
  {
   "cell_type": "code",
   "execution_count": 56,
   "metadata": {},
   "outputs": [
    {
     "data": {
      "image/png": "[encoded data removed]",
      "text/plain": [
       "<Figure size 720x432 with 1 Axes>"
      ]
     },
     "metadata": {
      "needs_background": "light"
     },
     "output_type": "display_data"
    }
   ],
   "source": [
    "scatters(y_predicted_sk, y_test, y_predicted_sk, 'All Variables (Prediction) - Test Data')"
   ]
  },
  {
   "cell_type": "code",
   "execution_count": 57,
   "metadata": {},
   "outputs": [
    {
     "name": "stdout",
     "output_type": "stream",
     "text": [
      "R-Squared for the Data: 0.8934018219761641\n"
     ]
    }
   ],
   "source": [
    "def rsquared_cal(actual, predicted):\n",
    "    corr_matrix = np.corrcoef(actual, predicted)\n",
    "    corr = corr_matrix[0,1]\n",
    "    R_sq = corr**2\n",
    "    print('R-Squared for the Data: {}'.format(R_sq))\n",
    "    \n",
    "rsquared_cal(y_test, y_predicted_sk)"
   ]
  },
  {
   "cell_type": "code",
   "execution_count": 58,
   "metadata": {},
   "outputs": [],
   "source": [
    "def RMSE_performance(X_train, X_test, rm):\n",
    "    # Predict\n",
    "    y_predicted_train = rm.predict(X_train)\n",
    "    y_predicted_test = rm.predict(X_test)\n",
    "\n",
    "    MSE_train = np.sum(np.square(y_predicted_train - y_train)) / y_train.size\n",
    "    MSE_test = np.sum(np.square(y_predicted_test - y_test)) / y_test.size\n",
    "\n",
    "    RMSE_train = math.sqrt(MSE_train)\n",
    "    RMSE_test = math.sqrt(MSE_test)\n",
    "    \n",
    "    return (RMSE_train, RMSE_test)"
   ]
  },
  {
   "cell_type": "code",
   "execution_count": 59,
   "metadata": {},
   "outputs": [
    {
     "name": "stdout",
     "output_type": "stream",
     "text": [
      "R-Squared for the Data: 0.9164949630468573\n",
      "R-Squared for the Data: 0.8860188903216882\n"
     ]
    }
   ],
   "source": [
    "from sklearn.linear_model import ElasticNet\n",
    "\n",
    "#Fit a linear regression model to this data\n",
    "lasso = ElasticNet(alpha = 0.001, max_iter=10000)\n",
    "\n",
    "# Fit the data(train the model)\n",
    "lasso.fit(X_train, y_train)\n",
    "\n",
    "# Predict\n",
    "y_predicted_train_lasso = lasso.predict(X_train)\n",
    "y_predicted_test_lasso = lasso.predict(X_test)\n",
    "\n",
    "y_predicted_test_lasso = pd.Series(y_predicted_test_lasso)\n",
    "y_predicted_test_lasso = y_predicted_test_lasso.drop(indexes)\n",
    "\n",
    "rsquared_cal(y_train, y_predicted_train_lasso)\n",
    "rsquared_cal(y_test, y_predicted_test_lasso)"
   ]
  },
  {
   "cell_type": "code",
   "execution_count": 60,
   "metadata": {},
   "outputs": [],
   "source": [
    "# Test Predictions\n",
    "lasso_variables_test = test_data[lasso_features]"
   ]
  },
  {
   "cell_type": "code",
   "execution_count": 61,
   "metadata": {},
   "outputs": [],
   "source": [
    "test_y_predicted_test_lasso = lasso.predict(lasso_variables_test)"
   ]
  },
  {
   "cell_type": "markdown",
   "metadata": {},
   "source": [
    "## Re-train the model but now with all the datapoints (training + validation)"
   ]
  },
  {
   "cell_type": "markdown",
   "metadata": {},
   "source": [
    "## Model 2: Prediction of `Vehicle_Trim`"
   ]
  },
  {
   "cell_type": "code",
   "execution_count": 62,
   "metadata": {},
   "outputs": [
    {
     "name": "stdout",
     "output_type": "stream",
     "text": [
      "# of Features using LASSO: 454\n"
     ]
    },
    {
     "name": "stderr",
     "output_type": "stream",
     "text": [
      "C:\\Users\\rodol\\Anaconda3\\lib\\site-packages\\sklearn\\linear_model\\_coordinate_descent.py:530: ConvergenceWarning: Objective did not converge. You might want to increase the number of iterations. Duality gap: 1836.473125217719, tolerance: 14.667880555004965\n",
      "  model = cd_fast.enet_coordinate_descent(\n"
     ]
    }
   ],
   "source": [
    "lasso_features_trim, len_lasso_trim = feature_select_lasso(features, target_trim, 0.001)\n",
    "print('# of Features using LASSO: ' + str(len_lasso_trim))"
   ]
  },
  {
   "cell_type": "code",
   "execution_count": 63,
   "metadata": {},
   "outputs": [],
   "source": [
    "lasso_variables_tim = data[lasso_features_trim]\n",
    "X_train_2, X_test_2, y_train_2, y_test_2 = train_test_split(lasso_variables_tim, target_trim, test_size=0.20, random_state=42)"
   ]
  },
  {
   "cell_type": "markdown",
   "metadata": {},
   "source": [
    "### Different Models and Hyperparameters"
   ]
  },
  {
   "cell_type": "code",
   "execution_count": 64,
   "metadata": {},
   "outputs": [],
   "source": [
    "from sklearn.tree import DecisionTreeClassifier\n",
    "from sklearn.ensemble import RandomForestClassifier \n",
    "from sklearn.model_selection import RandomizedSearchCV\n",
    "from sklearn import metrics\n",
    "from sklearn.metrics import classification_report"
   ]
  },
  {
   "cell_type": "markdown",
   "metadata": {},
   "source": [
    "#### Hyperparameter Settings for the `Decision Tree` Model"
   ]
  },
  {
   "cell_type": "code",
   "execution_count": 66,
   "metadata": {},
   "outputs": [
    {
     "name": "stdout",
     "output_type": "stream",
     "text": [
      "Fitting 3 folds for each of 200 candidates, totalling 600 fits\n"
     ]
    },
    {
     "name": "stderr",
     "output_type": "stream",
     "text": [
      "C:\\Users\\rodol\\Anaconda3\\lib\\site-packages\\sklearn\\model_selection\\_split.py:666: UserWarning: The least populated class in y has only 1 members, which is less than n_splits=3.\n",
      "  warnings.warn((\"The least populated class in y has only %d\"\n"
     ]
    },
    {
     "data": {
      "text/plain": [
       "{'min_samples_split': 6,\n",
       " 'min_samples_leaf': 4,\n",
       " 'max_depth': 9,\n",
       " 'criterion': 'entropy'}"
      ]
     },
     "execution_count": 66,
     "metadata": {},
     "output_type": "execute_result"
    }
   ],
   "source": [
    "max_depth_options = [2,3,4,5,6,7,8,9,10]\n",
    "min_sample_options = [2,3,4,5,6,7,8,9,10]\n",
    "model_criterion = ['entropy', 'gini']\n",
    "min_samples_leaf_options = [2,3,4,5,6,7,8,9,10]\n",
    "\n",
    "dt_grid = {'criterion': model_criterion, \n",
    "           'max_depth': max_depth_options,\n",
    "           'min_samples_split':min_sample_options,\n",
    "           'min_samples_leaf':min_samples_leaf_options}\n",
    "\n",
    "dt_base = DecisionTreeClassifier()\n",
    "\n",
    "decision_trees_hyper = RandomizedSearchCV(estimator = dt_base, param_distributions = dt_grid, \n",
    "                               n_iter = 200, cv = 3, verbose = 2, random_state = 42, \n",
    "                               n_jobs = -1)\n",
    "\n",
    "# Fit the random search model\n",
    "decision_trees_hyper.fit(X_train_2, y_train_2)\n",
    "\n",
    "x = decision_trees_hyper.best_params_\n",
    "x"
   ]
  },
  {
   "cell_type": "markdown",
   "metadata": {},
   "source": [
    "#### Hyperparameter Settings for the `Random Forest` Model"
   ]
  },
  {
   "cell_type": "code",
   "execution_count": 67,
   "metadata": {},
   "outputs": [
    {
     "name": "stdout",
     "output_type": "stream",
     "text": [
      "Fitting 3 folds for each of 200 candidates, totalling 600 fits\n"
     ]
    },
    {
     "name": "stderr",
     "output_type": "stream",
     "text": [
      "C:\\Users\\rodol\\Anaconda3\\lib\\site-packages\\sklearn\\model_selection\\_split.py:666: UserWarning: The least populated class in y has only 1 members, which is less than n_splits=3.\n",
      "  warnings.warn((\"The least populated class in y has only %d\"\n"
     ]
    },
    {
     "data": {
      "text/plain": [
       "{'n_estimators': 70,\n",
       " 'min_samples_split': 4,\n",
       " 'min_samples_leaf': 2,\n",
       " 'max_depth': 10,\n",
       " 'criterion': 'gini'}"
      ]
     },
     "execution_count": 67,
     "metadata": {},
     "output_type": "execute_result"
    }
   ],
   "source": [
    "n_estimators_options = [10,20,30,40,50,60,70,80,90,100]\n",
    "\n",
    "rf_grid = {'criterion': model_criterion,\n",
    "           'n_estimators':n_estimators_options, \n",
    "           'max_depth': max_depth_options,\n",
    "           'min_samples_split':min_sample_options,\n",
    "           'min_samples_leaf':min_samples_leaf_options}\n",
    "\n",
    "rf_base = RandomForestClassifier()\n",
    "\n",
    "random_forest_hyper = RandomizedSearchCV(estimator = rf_base, param_distributions = rf_grid, \n",
    "                               n_iter = 200, cv = 3, verbose = 2, random_state = 42, \n",
    "                               n_jobs = -1)\n",
    "\n",
    "# Fit the random search model\n",
    "random_forest_hyper.fit(X_train_2, y_train_2)\n",
    "\n",
    "y = random_forest_hyper.best_params_\n",
    "y"
   ]
  },
  {
   "cell_type": "markdown",
   "metadata": {},
   "source": [
    "#### Hyperparameter Settings for the `Logistic Regression` Model"
   ]
  },
  {
   "cell_type": "code",
   "execution_count": 69,
   "metadata": {},
   "outputs": [
    {
     "name": "stderr",
     "output_type": "stream",
     "text": [
      "C:\\Users\\rodol\\Anaconda3\\lib\\site-packages\\sklearn\\model_selection\\_search.py:285: UserWarning: The total space of parameters 8 is smaller than n_iter=200. Running 8 iterations. For exhaustive searches, use GridSearchCV.\n",
      "  warnings.warn(\n",
      "C:\\Users\\rodol\\Anaconda3\\lib\\site-packages\\sklearn\\model_selection\\_split.py:666: UserWarning: The least populated class in y has only 1 members, which is less than n_splits=3.\n",
      "  warnings.warn((\"The least populated class in y has only %d\"\n"
     ]
    },
    {
     "name": "stdout",
     "output_type": "stream",
     "text": [
      "Fitting 3 folds for each of 8 candidates, totalling 24 fits\n"
     ]
    },
    {
     "name": "stderr",
     "output_type": "stream",
     "text": [
      "C:\\Users\\rodol\\Anaconda3\\lib\\site-packages\\sklearn\\model_selection\\_search.py:918: UserWarning: One or more of the test scores are non-finite: [0.85852248 0.85951343        nan 0.85852192 0.85852229 0.85951343\n",
      "        nan 0.85356713]\n",
      "  warnings.warn(\n"
     ]
    },
    {
     "data": {
      "text/plain": [
       "{'solver': 'saga',\n",
       " 'penalty': 'l2',\n",
       " 'multi_class': 'multinomial',\n",
       " 'max_iter': 1000}"
      ]
     },
     "execution_count": 69,
     "metadata": {},
     "output_type": "execute_result"
    }
   ],
   "source": [
    "from sklearn.linear_model import LogisticRegression\n",
    "\n",
    "max_iter_options = [1000,10000]\n",
    "penalty_options = ['l1', 'l2', 'elasticnet', 'none']\n",
    "solver_options = ['saga']\n",
    "multi = ['multinomial']\n",
    "\n",
    "lr_grid = {'penalty': penalty_options,\n",
    "           'solver': solver_options,\n",
    "           'multi_class': multi,\n",
    "           'max_iter': max_iter_options}\n",
    "\n",
    "lr_base = LogisticRegression()\n",
    "\n",
    "logistic_reg_hyper = RandomizedSearchCV(estimator = lr_base, param_distributions = lr_grid, \n",
    "                               n_iter = 200, cv = 3, verbose = 2, random_state = 42, \n",
    "                               n_jobs = -1)\n",
    "\n",
    "# Fit the random search model\n",
    "logistic_reg_hyper.fit(X_train_2, y_train_2)\n",
    "\n",
    "z = logistic_reg_hyper.best_params_\n",
    "z"
   ]
  },
  {
   "cell_type": "markdown",
   "metadata": {},
   "source": [
    "### Comparison"
   ]
  },
  {
   "cell_type": "code",
   "execution_count": 128,
   "metadata": {},
   "outputs": [],
   "source": [
    "from sklearn.metrics import accuracy_score, confusion_matrix, classification_report, roc_curve\n",
    "\n",
    "def perfomance_values(T,Y,header):\n",
    "    print(\"Classifier: \", header)\n",
    "    AR = accuracy_score(T, Y)\n",
    "    ER = 1.0 - AR\n",
    "    P = precision_score(T, Y, average='weighted')\n",
    "    R = recall_score(T, Y, average='weighted')\n",
    "    F1 = f1_score(T, Y, average='weighted')\n",
    "    print (\"\\nAccuracy:\", round(AR,4), \",Error Rate:\", round(ER,4), \",Precision:\", round(P,4), \",Recall:\", round(R,4), \",F1 Score:\",round(F1,4))\n",
    "    print (\" \")\n",
    "    return AR, ER, P, R, F1\n",
    "\n",
    "#Function to train the model and obtain the perfomance values from each model (in a plot form)\n",
    "def classifier_performance(V, header, X_train, X_test, y_train, y_test):\n",
    "    accuracy_rate = []\n",
    "    error_rate = []\n",
    "    precision = []\n",
    "    recall = []\n",
    "    f1_score = []\n",
    "    for i in range(len(header)):\n",
    "        V[i].fit(X_train, y_train)\n",
    "        #proba = V[i].predict_proba(X_test)[:,1]#Predictions and probabilities\n",
    "        prediction = V[i].predict(X_test)\n",
    "        #Creating a Data Frame for the Test, Prediction and Probaility Data\n",
    "#         T = y_test.values.tolist()\n",
    "#         Y = prediction.tolist()\n",
    "#         y = proba.tolist()\n",
    "#         Y = booleans(Y)\n",
    "#         T = booleans(T)\n",
    "        AR, ER, P, R, F1 = perfomance_values(y_test,prediction,header[i])\n",
    "        accuracy_rate.append(AR)\n",
    "        error_rate.append(ER)\n",
    "        precision.append(P)\n",
    "        recall.append(R)\n",
    "        f1_score.append(F1)\n",
    "        allvalues = [AR, ER, P, R, F1]\n",
    "    #return allvalues\n",
    "\n",
    "    names = ['Accuracy Rate','Error Rate','Precision','Recall','F1 Score']\n",
    "    list_of_values = [accuracy_rate, error_rate, precision, recall, f1_score]\n",
    "    colors = ['lightseagreen', 'tomato', 'darkmagenta', 'crimson', 'olive']\n",
    "    \n",
    "    #Plots of each of the Performance Values for each of the Classifiers in this analysis\n",
    "    for i in range(len(names)):\n",
    "        plt.bar(header, list_of_values[i], color=colors[i])\n",
    "        plt.xticks(rotation=45)\n",
    "        plt.title(names[i])\n",
    "        plt.ylabel(\"Score\")\n",
    "        plt.show()"
   ]
  },
  {
   "cell_type": "code",
   "execution_count": 136,
   "metadata": {},
   "outputs": [],
   "source": [
    "#Classifiers\n",
    "dt = DecisionTreeClassifier(criterion=x['criterion'], max_depth = x['max_depth'], min_samples_split = x['min_samples_split'], min_samples_leaf = x['min_samples_leaf'])\n",
    "rf = RandomForestClassifier(n_estimators = y['n_estimators'], criterion = y['criterion'], max_depth = y['max_depth'], min_samples_split = y['min_samples_split'], min_samples_leaf = y['min_samples_leaf'])\n",
    "lr = LogisticRegression(solver = z['solver'], penalty = z['penalty'], multi_class = z['multi_class'], max_iter = z['max_iter'])\n",
    "\n",
    "#List for Classifiers and Names\n",
    "header = [\"Decision_Tree\",\"Random_Forest\", \"Logistic_Regression\"]\n",
    "V = [dt, rf, lr]"
   ]
  },
  {
   "cell_type": "code",
   "execution_count": null,
   "metadata": {},
   "outputs": [
    {
     "name": "stderr",
     "output_type": "stream",
     "text": [
      "C:\\Users\\rodol\\Anaconda3\\lib\\site-packages\\sklearn\\model_selection\\_split.py:666: UserWarning: The least populated class in y has only 1 members, which is less than n_splits=10.\n",
      "  warnings.warn((\"The least populated class in y has only %d\"\n",
      "C:\\Users\\rodol\\Anaconda3\\lib\\site-packages\\sklearn\\model_selection\\_split.py:666: UserWarning: The least populated class in y has only 1 members, which is less than n_splits=10.\n",
      "  warnings.warn((\"The least populated class in y has only %d\"\n",
      "C:\\Users\\rodol\\Anaconda3\\lib\\site-packages\\sklearn\\model_selection\\_split.py:666: UserWarning: The least populated class in y has only 1 members, which is less than n_splits=10.\n",
      "  warnings.warn((\"The least populated class in y has only %d\"\n"
     ]
    }
   ],
   "source": [
    "skf = StratifiedKFold(n_splits=10)\n",
    "summary_accuracy = []\n",
    "for i in V:\n",
    "    results = cross_val_score(i, X_train_2, y_train_2, cv=skf)\n",
    "    accuracy = results.mean()*100.0\n",
    "    summary_accuracy.append(accuracy)"
   ]
  },
  {
   "cell_type": "code",
   "execution_count": null,
   "metadata": {},
   "outputs": [],
   "source": [
    "names = ['Accuracy Rate','Error Rate','Precision','Recall','F1 Score']\n",
    "#list_of_values = [accuracy_rate, error_rate, precision, recall, f1_score]\n",
    "colors = ['lightseagreen', 'tomato', 'darkmagenta']\n",
    "\n",
    "#Plots of each of the Performance Values for each of the Classifiers in this analysis\n",
    "for i in range(len(header)):\n",
    "    plt.bar(header, summary_accuracy[i], color=colors[i])\n",
    "    plt.xticks(rotation=45)\n",
    "    plt.title(header[i])\n",
    "    plt.ylabel(\"Score\")\n",
    "    plt.show()"
   ]
  },
  {
   "cell_type": "code",
   "execution_count": null,
   "metadata": {
    "scrolled": false
   },
   "outputs": [],
   "source": [
    "# from sklearn import metrics\n",
    "# from sklearn.metrics import *\n",
    "# classifier_performance(V, header, X_train_2, X_test_2, y_train_2, y_test)"
   ]
  },
  {
   "cell_type": "markdown",
   "metadata": {},
   "source": [
    "### Final Model 2 Selection"
   ]
  },
  {
   "cell_type": "code",
   "execution_count": 91,
   "metadata": {},
   "outputs": [],
   "source": [
    "def performance_values(X_test, y_test, lr):\n",
    "    y_pred = lr.predict(X_test)\n",
    "    lr_acc = accuracy_score(y_test, y_pred)\n",
    "    probs = lr.predict_proba(X_test)\n",
    "    preds = probs[:,1]\n",
    "    fpr, tpr, threshold = metrics.roc_curve(y_test, preds)\n",
    "    roc_auc = metrics.roc_auc_score(y_test, preds)\n",
    "    return (fpr, tpr, lr_acc, roc_auc)"
   ]
  },
  {
   "cell_type": "code",
   "execution_count": 112,
   "metadata": {},
   "outputs": [
    {
     "data": {
      "text/plain": [
       "RandomForestClassifier(max_depth=10, min_samples_leaf=2, min_samples_split=4,\n",
       "                       n_estimators=70)"
      ]
     },
     "execution_count": 112,
     "metadata": {},
     "output_type": "execute_result"
    }
   ],
   "source": [
    "rf = RandomForestClassifier(n_estimators = y['n_estimators'], criterion = y['criterion'], max_depth = y['max_depth'], min_samples_split = y['min_samples_split'], min_samples_leaf = y['min_samples_leaf'])\n",
    "rf.fit(X_train_2, y_train_2)\n",
    "\n",
    "# fpr, tpr, rf_acc, roc_auc = performance_values(X_test_2, y_test_2, rf)\n",
    "\n",
    "# print(\"Accuracy: {}\".format(rf_acc*100))\n",
    "# print(\"AUC: {}\".format(roc_auc*100))\n",
    "\n",
    "# # Plot the ROC curve\n",
    "# ROC_curve(fpr,tpr,roc_auc)"
   ]
  },
  {
   "cell_type": "code",
   "execution_count": 114,
   "metadata": {},
   "outputs": [],
   "source": [
    "prediction = rf.predict(X_test_2)"
   ]
  },
  {
   "cell_type": "code",
   "execution_count": 115,
   "metadata": {},
   "outputs": [],
   "source": [
    "AR = accuracy_score(y_test_2, prediction)"
   ]
  },
  {
   "cell_type": "code",
   "execution_count": 116,
   "metadata": {},
   "outputs": [
    {
     "data": {
      "text/plain": [
       "0.7324083250743311"
      ]
     },
     "execution_count": 116,
     "metadata": {},
     "output_type": "execute_result"
    }
   ],
   "source": [
    "AR"
   ]
  },
  {
   "cell_type": "code",
   "execution_count": 124,
   "metadata": {},
   "outputs": [
    {
     "name": "stderr",
     "output_type": "stream",
     "text": [
      "C:\\Users\\rodol\\Anaconda3\\lib\\site-packages\\sklearn\\metrics\\_classification.py:1245: UndefinedMetricWarning: Precision is ill-defined and being set to 0.0 in labels with no predicted samples. Use `zero_division` parameter to control this behavior.\n",
      "  _warn_prf(average, modifier, msg_start, len(result))\n"
     ]
    }
   ],
   "source": [
    "P = precision_score(y_test_2, prediction, average = 'weighted')\n",
    "R = recall_score(y_test_2, prediction, average='weighted')\n",
    "F1 = f1_score(y_test_2, prediction, average='weighted')"
   ]
  },
  {
   "cell_type": "code",
   "execution_count": 105,
   "metadata": {},
   "outputs": [
    {
     "name": "stderr",
     "output_type": "stream",
     "text": [
      "C:\\Users\\rodol\\Anaconda3\\lib\\site-packages\\sklearn\\model_selection\\_split.py:666: UserWarning: The least populated class in y has only 1 members, which is less than n_splits=10.\n",
      "  warnings.warn((\"The least populated class in y has only %d\"\n"
     ]
    },
    {
     "name": "stdout",
     "output_type": "stream",
     "text": [
      "Accuracy: 75.17% (1.95%)\n"
     ]
    }
   ],
   "source": [
    "## skf = StratifiedKFold(n_splits=10)\n",
    "from sklearn.model_selection import StratifiedKFold, cross_val_score, cross_val_predict, KFold\n",
    "skf = StratifiedKFold(n_splits=10)\n",
    "results = cross_val_score(rf, X_train_2, y_train_2, cv=skf)\n",
    "print(\"Accuracy: %.2f%% (%.2f%%)\" % (results.mean()*100.0, results.std()*100.0))"
   ]
  },
  {
   "cell_type": "code",
   "execution_count": 106,
   "metadata": {},
   "outputs": [
    {
     "name": "stdout",
     "output_type": "stream",
     "text": [
      "95.0 confidence interval 72.2% and 78.6%\n"
     ]
    }
   ],
   "source": [
    "# confidence intervals\n",
    "alpha = 0.95\n",
    "p = ((1.0-alpha)/2.0) * 100\n",
    "lower = max(0.0, np.percentile(results, p))\n",
    "p = (alpha+((1.0-alpha)/2.0)) * 100\n",
    "upper = min(1.0, np.percentile(results, p))\n",
    "print('%.1f confidence interval %.1f%% and %.1f%%' % (alpha*100, lower*100, upper*100))"
   ]
  },
  {
   "cell_type": "markdown",
   "metadata": {},
   "source": [
    "### General Structure:\n",
    "\n",
    "- **Clean the Data:**\n",
    "    - Missing values: Remove or replace (for median or mode)\n",
    "    - Split the columns\n",
    "    - One hot encoding\n",
    "\n",
    "\n",
    "- **Split into training and validation:**\n",
    "\n",
    "\n",
    "- **Feature Selection:**\n",
    "    - Feature selection for 2 models\n",
    "    - Select the most important variables\n",
    "\n",
    "\n",
    "- **Select different models and do Cross Validation to select the right hyper parameters:**\n",
    "    - For 2 models for 2 predictions\n",
    "\n",
    "\n",
    "- **From there select the best model and get the final model:**\n",
    "    - For 2 models\n",
    "  \n",
    "  \n",
    "- **Do a final Test Prediction:**\n",
    "    - For 2 models"
   ]
  }
 ],
 "metadata": {
  "kernelspec": {
   "display_name": "Python 3",
   "language": "python",
   "name": "python3"
  },
  "language_info": {
   "codemirror_mode": {
    "name": "ipython",
    "version": 3
   },
   "file_extension": ".py",
   "mimetype": "text/x-python",
   "name": "python",
   "nbconvert_exporter": "python",
   "pygments_lexer": "ipython3",
   "version": "3.8.8"
  }
 },
 "nbformat": 4,
 "nbformat_minor": 2
}
